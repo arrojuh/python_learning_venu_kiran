{
 "cells": [
  {
   "cell_type": "code",
   "execution_count": 67,
   "id": "7a1d2e36",
   "metadata": {},
   "outputs": [],
   "source": [
    "# key word for taking input from user ------   input()\n",
    "# By default the datatype of the input is string\n",
    "#map(datatype,iterable) maps the datatype to the individual element of the iterable"
   ]
  },
  {
   "cell_type": "code",
   "execution_count": 13,
   "id": "f1b85674",
   "metadata": {},
   "outputs": [
    {
     "name": "stdout",
     "output_type": "stream",
     "text": [
      "Please enter your name:: Harikrishna\n"
     ]
    }
   ],
   "source": [
    "name = input('Please enter your name:: ')"
   ]
  },
  {
   "cell_type": "code",
   "execution_count": 15,
   "id": "8d6e8873",
   "metadata": {},
   "outputs": [
    {
     "name": "stdout",
     "output_type": "stream",
     "text": [
      "Please enter your age:: 27\n"
     ]
    }
   ],
   "source": [
    "age = input('Please enter your age:: ')"
   ]
  },
  {
   "cell_type": "code",
   "execution_count": 17,
   "id": "f5765bed",
   "metadata": {},
   "outputs": [],
   "source": [
    "age1 = int(age)"
   ]
  },
  {
   "cell_type": "code",
   "execution_count": 18,
   "id": "b26a571d",
   "metadata": {},
   "outputs": [
    {
     "data": {
      "text/plain": [
       "int"
      ]
     },
     "execution_count": 18,
     "metadata": {},
     "output_type": "execute_result"
    }
   ],
   "source": [
    "type(age1)"
   ]
  },
  {
   "cell_type": "code",
   "execution_count": 22,
   "id": "5a4c491e",
   "metadata": {},
   "outputs": [
    {
     "name": "stdout",
     "output_type": "stream",
     "text": [
      "Please enter your age:: 60\n"
     ]
    }
   ],
   "source": [
    "age = int(input('Please enter your age:: '))"
   ]
  },
  {
   "cell_type": "code",
   "execution_count": 23,
   "id": "dd6b274d",
   "metadata": {},
   "outputs": [
    {
     "name": "stdout",
     "output_type": "stream",
     "text": [
      "60\n"
     ]
    }
   ],
   "source": [
    "print(age)"
   ]
  },
  {
   "cell_type": "code",
   "execution_count": 25,
   "id": "017a3fdf",
   "metadata": {},
   "outputs": [
    {
     "name": "stdout",
     "output_type": "stream",
     "text": [
      "Please enter your age:: 87\n"
     ]
    }
   ],
   "source": [
    "age2 = int(input('Please enter your age:: '))"
   ]
  },
  {
   "cell_type": "code",
   "execution_count": 26,
   "id": "aedbbdba",
   "metadata": {},
   "outputs": [
    {
     "name": "stdout",
     "output_type": "stream",
     "text": [
      "Pleae enter your height: 5.9\n"
     ]
    }
   ],
   "source": [
    "height = float(input('Pleae enter your height: '))"
   ]
  },
  {
   "cell_type": "code",
   "execution_count": 27,
   "id": "36920faf",
   "metadata": {},
   "outputs": [
    {
     "name": "stdout",
     "output_type": "stream",
     "text": [
      "5.9\n"
     ]
    }
   ],
   "source": [
    "print(height)"
   ]
  },
  {
   "cell_type": "code",
   "execution_count": 42,
   "id": "db310fbf",
   "metadata": {},
   "outputs": [
    {
     "name": "stdout",
     "output_type": "stream",
     "text": [
      "Enter list of names with comma as seperator :Hari,Venu,Kiran\n"
     ]
    }
   ],
   "source": [
    "list_names = input('Enter list of names with comma as seperator :').split(',')"
   ]
  },
  {
   "cell_type": "code",
   "execution_count": 43,
   "id": "1e2496e8",
   "metadata": {},
   "outputs": [
    {
     "data": {
      "text/plain": [
       "['Hari', 'Venu', 'Kiran']"
      ]
     },
     "execution_count": 43,
     "metadata": {},
     "output_type": "execute_result"
    }
   ],
   "source": [
    "list_names"
   ]
  },
  {
   "cell_type": "code",
   "execution_count": 52,
   "id": "23412a98",
   "metadata": {},
   "outputs": [
    {
     "name": "stdout",
     "output_type": "stream",
     "text": [
      "Enter the list of marks: 1234567\n"
     ]
    }
   ],
   "source": [
    "list_names2 = list(map(int,input('Enter the list of marks: ')))"
   ]
  }
 ],
 "metadata": {
  "kernelspec": {
   "display_name": "Python 3 (ipykernel)",
   "language": "python",
   "name": "python3"
  },
  "language_info": {
   "codemirror_mode": {
    "name": "ipython",
    "version": 3
   },
   "file_extension": ".py",
   "mimetype": "text/x-python",
   "name": "python",
   "nbconvert_exporter": "python",
   "pygments_lexer": "ipython3",
   "version": "3.9.12"
  }
 },
 "nbformat": 4,
 "nbformat_minor": 5
}

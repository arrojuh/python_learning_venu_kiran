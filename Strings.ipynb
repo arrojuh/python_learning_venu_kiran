{
 "cells": [
  {
   "cell_type": "markdown",
   "id": "3b723214",
   "metadata": {},
   "source": [
    "# STRINGS"
   ]
  },
  {
   "cell_type": "code",
   "execution_count": 50,
   "id": "0b03c9bf",
   "metadata": {},
   "outputs": [],
   "source": [
    "#SYNTAXES\n",
    "# STRING[index] ---- to access single element \n",
    "# STRING[start_index:end_index] ---- to access multiple elements :: note: end_index  is not included\n",
    "# STRING[start_index:end_index:step] --- to jump/skip the elements\n",
    "#start_index = 0, end_index = 5, step = 1 --- 0,0+1,0+1+1,0+1+1+1,0+1+1+1+1,0+1+1+1+1+1 -- 0 1 2 3 4 5\n",
    "#start_index = 0, end_index = 5, step = 2 --- 0,0+2,0+2+2 -- 0 2 4\n",
    "#start_index = 0, end_index = 5, step = -1 ---0(the other end),0-1,0-1-1,... -- -1 -2 -3 -4 -5"
   ]
  },
  {
   "cell_type": "code",
   "execution_count": 6,
   "id": "f5ee45d2",
   "metadata": {},
   "outputs": [],
   "source": [
    "str1 = 'Venu'\n",
    "str2 = \"Kiran\""
   ]
  },
  {
   "cell_type": "code",
   "execution_count": 17,
   "id": "68035a6a",
   "metadata": {},
   "outputs": [],
   "source": [
    "#index is nothing but the position of the element in the string and the indexing starts from 0"
   ]
  },
  {
   "cell_type": "code",
   "execution_count": null,
   "id": "93ac85e5",
   "metadata": {},
   "outputs": [],
   "source": [
    "#positive indexing\n",
    "\n",
    "#'Venu'---0 1 2 3"
   ]
  },
  {
   "cell_type": "code",
   "execution_count": 18,
   "id": "56f8a55f",
   "metadata": {},
   "outputs": [
    {
     "name": "stdout",
     "output_type": "stream",
     "text": [
      "V e n u\n"
     ]
    }
   ],
   "source": [
    "print(str1[0],str1[1],str1[2],str1[3])"
   ]
  },
  {
   "cell_type": "code",
   "execution_count": 19,
   "id": "909262f4",
   "metadata": {},
   "outputs": [],
   "source": [
    "#negative indexing\n",
    "#'Kiran' --- 0 -4 -3 -2 -1"
   ]
  },
  {
   "cell_type": "code",
   "execution_count": 20,
   "id": "259b2b4a",
   "metadata": {},
   "outputs": [
    {
     "data": {
      "text/plain": [
       "'r'"
      ]
     },
     "execution_count": 20,
     "metadata": {},
     "output_type": "execute_result"
    }
   ],
   "source": [
    "\"Kiran\"[-3]"
   ]
  },
  {
   "cell_type": "code",
   "execution_count": 21,
   "id": "1712958d",
   "metadata": {},
   "outputs": [
    {
     "data": {
      "text/plain": [
       "'K'"
      ]
     },
     "execution_count": 21,
     "metadata": {},
     "output_type": "execute_result"
    }
   ],
   "source": [
    "'Kiran'[0]"
   ]
  },
  {
   "cell_type": "code",
   "execution_count": 40,
   "id": "fecd9208",
   "metadata": {},
   "outputs": [],
   "source": [
    "str3 = 'I love India'\n",
    "str4 = 'IloveIndia'"
   ]
  },
  {
   "cell_type": "code",
   "execution_count": 35,
   "id": "cbd4cd76",
   "metadata": {},
   "outputs": [],
   "source": [
    "max_ind = len(str3)-1"
   ]
  },
  {
   "cell_type": "code",
   "execution_count": 36,
   "id": "6e3b8478",
   "metadata": {},
   "outputs": [
    {
     "data": {
      "text/plain": [
       "'a'"
      ]
     },
     "execution_count": 36,
     "metadata": {},
     "output_type": "execute_result"
    }
   ],
   "source": [
    "str3[max_ind]"
   ]
  },
  {
   "cell_type": "code",
   "execution_count": 37,
   "id": "073ba433",
   "metadata": {},
   "outputs": [
    {
     "data": {
      "text/plain": [
       "'Kir'"
      ]
     },
     "execution_count": 37,
     "metadata": {},
     "output_type": "execute_result"
    }
   ],
   "source": [
    "str2[0:3]"
   ]
  },
  {
   "cell_type": "code",
   "execution_count": 38,
   "id": "5b48a985",
   "metadata": {},
   "outputs": [
    {
     "data": {
      "text/plain": [
       "'I love India'"
      ]
     },
     "execution_count": 38,
     "metadata": {},
     "output_type": "execute_result"
    }
   ],
   "source": [
    "str3[0:12]"
   ]
  },
  {
   "cell_type": "code",
   "execution_count": 44,
   "id": "1f6883f8",
   "metadata": {},
   "outputs": [
    {
     "data": {
      "text/plain": [
       "'Indi'"
      ]
     },
     "execution_count": 44,
     "metadata": {},
     "output_type": "execute_result"
    }
   ],
   "source": [
    "str3[-5:-1]"
   ]
  },
  {
   "cell_type": "code",
   "execution_count": 45,
   "id": "18b6d6ee",
   "metadata": {},
   "outputs": [
    {
     "data": {
      "text/plain": [
       "'India'"
      ]
     },
     "execution_count": 45,
     "metadata": {},
     "output_type": "execute_result"
    }
   ],
   "source": [
    "str3[-5:]# to include the last letter"
   ]
  },
  {
   "cell_type": "code",
   "execution_count": 46,
   "id": "bbe3fdb8",
   "metadata": {},
   "outputs": [
    {
     "data": {
      "text/plain": [
       "'I love India'"
      ]
     },
     "execution_count": 46,
     "metadata": {},
     "output_type": "execute_result"
    }
   ],
   "source": [
    "str3[:] #gives the whole string"
   ]
  },
  {
   "cell_type": "code",
   "execution_count": 53,
   "id": "b824d800",
   "metadata": {},
   "outputs": [
    {
     "name": "stdout",
     "output_type": "stream",
     "text": [
      "I love India\n"
     ]
    }
   ],
   "source": [
    "print(str3[:])"
   ]
  },
  {
   "cell_type": "code",
   "execution_count": 54,
   "id": "b0345d4f",
   "metadata": {},
   "outputs": [
    {
     "name": "stdout",
     "output_type": "stream",
     "text": [
      "I love India\n",
      "Ilv ni\n",
      "Io d\n"
     ]
    }
   ],
   "source": [
    "print(str3[::1]) #012345678\n",
    "print(str3[::2])#0246810\n",
    "print(str3[::3])#036912"
   ]
  },
  {
   "cell_type": "code",
   "execution_count": 55,
   "id": "68731339",
   "metadata": {},
   "outputs": [
    {
     "name": "stdout",
     "output_type": "stream",
     "text": [
      "aidnI evol I\n"
     ]
    }
   ],
   "source": [
    "print(str3[::-1]) # -1-2-3-4-5..."
   ]
  },
  {
   "cell_type": "code",
   "execution_count": 56,
   "id": "5502d934",
   "metadata": {},
   "outputs": [
    {
     "name": "stdout",
     "output_type": "stream",
     "text": [
      "adIeo \n"
     ]
    }
   ],
   "source": [
    "print(str3[::-2])#-2-4-6-8..."
   ]
  },
  {
   "cell_type": "code",
   "execution_count": 57,
   "id": "af39a4d2",
   "metadata": {},
   "outputs": [],
   "source": [
    "# String Operations"
   ]
  },
  {
   "cell_type": "code",
   "execution_count": 59,
   "id": "854c6b48",
   "metadata": {},
   "outputs": [
    {
     "data": {
      "text/plain": [
       "('Venu', 'Kiran')"
      ]
     },
     "execution_count": 59,
     "metadata": {},
     "output_type": "execute_result"
    }
   ],
   "source": [
    "str1,str2"
   ]
  },
  {
   "cell_type": "code",
   "execution_count": 60,
   "id": "c6d0e398",
   "metadata": {},
   "outputs": [
    {
     "data": {
      "text/plain": [
       "'VenuKiran'"
      ]
     },
     "execution_count": 60,
     "metadata": {},
     "output_type": "execute_result"
    }
   ],
   "source": [
    "str1 + str2"
   ]
  },
  {
   "cell_type": "code",
   "execution_count": 66,
   "id": "ebf81610",
   "metadata": {},
   "outputs": [
    {
     "data": {
      "text/plain": [
       "False"
      ]
     },
     "execution_count": 66,
     "metadata": {},
     "output_type": "execute_result"
    }
   ],
   "source": [
    "str1 == str2"
   ]
  },
  {
   "cell_type": "code",
   "execution_count": 67,
   "id": "11fe6134",
   "metadata": {},
   "outputs": [
    {
     "data": {
      "text/plain": [
       "True"
      ]
     },
     "execution_count": 67,
     "metadata": {},
     "output_type": "execute_result"
    }
   ],
   "source": [
    "str1 != str2"
   ]
  },
  {
   "cell_type": "code",
   "execution_count": 68,
   "id": "98374125",
   "metadata": {},
   "outputs": [
    {
     "data": {
      "text/plain": [
       "True"
      ]
     },
     "execution_count": 68,
     "metadata": {},
     "output_type": "execute_result"
    }
   ],
   "source": [
    "'venu' == 'venu'"
   ]
  },
  {
   "cell_type": "code",
   "execution_count": 69,
   "id": "340691cc",
   "metadata": {},
   "outputs": [
    {
     "data": {
      "text/plain": [
       "False"
      ]
     },
     "execution_count": 69,
     "metadata": {},
     "output_type": "execute_result"
    }
   ],
   "source": [
    "'venu' == \"Venu\" #case sensitive"
   ]
  },
  {
   "cell_type": "code",
   "execution_count": 78,
   "id": "8ac0072c",
   "metadata": {},
   "outputs": [
    {
     "data": {
      "text/plain": [
       "'kiran'"
      ]
     },
     "execution_count": 78,
     "metadata": {},
     "output_type": "execute_result"
    }
   ],
   "source": [
    "str2.lower() # converts all to lower case"
   ]
  },
  {
   "cell_type": "code",
   "execution_count": 77,
   "id": "444b1b3c",
   "metadata": {},
   "outputs": [
    {
     "data": {
      "text/plain": [
       "'KIRAN'"
      ]
     },
     "execution_count": 77,
     "metadata": {},
     "output_type": "execute_result"
    }
   ],
   "source": [
    "str2.upper() # converts to upper case"
   ]
  },
  {
   "cell_type": "code",
   "execution_count": null,
   "id": "f2867d99",
   "metadata": {},
   "outputs": [],
   "source": []
  },
  {
   "cell_type": "code",
   "execution_count": 79,
   "id": "ba698674",
   "metadata": {},
   "outputs": [
    {
     "data": {
      "text/plain": [
       "'Kisan'"
      ]
     },
     "execution_count": 79,
     "metadata": {},
     "output_type": "execute_result"
    }
   ],
   "source": [
    "str2.replace('r','s') #to replace a individual word"
   ]
  },
  {
   "cell_type": "code",
   "execution_count": 87,
   "id": "96675632",
   "metadata": {},
   "outputs": [
    {
     "name": "stdout",
     "output_type": "stream",
     "text": [
      "Kiran\n",
      "True\n"
     ]
    }
   ],
   "source": [
    "print(str2)\n",
    "print(str2.endswith('ran'))"
   ]
  },
  {
   "cell_type": "code",
   "execution_count": 90,
   "id": "22a73e4d",
   "metadata": {},
   "outputs": [
    {
     "name": "stdout",
     "output_type": "stream",
     "text": [
      "Kiran\n",
      "True\n"
     ]
    }
   ],
   "source": [
    "print(str2)\n",
    "print(str2.startswith('Ki'))"
   ]
  },
  {
   "cell_type": "code",
   "execution_count": 92,
   "id": "1d018973",
   "metadata": {},
   "outputs": [
    {
     "data": {
      "text/plain": [
       "'LoveLoveLoveLoveLove'"
      ]
     },
     "execution_count": 92,
     "metadata": {},
     "output_type": "execute_result"
    }
   ],
   "source": [
    "'Love'*5"
   ]
  },
  {
   "cell_type": "code",
   "execution_count": 93,
   "id": "4e212665",
   "metadata": {},
   "outputs": [
    {
     "data": {
      "text/plain": [
       "'     '"
      ]
     },
     "execution_count": 93,
     "metadata": {},
     "output_type": "execute_result"
    }
   ],
   "source": [
    "' '*5"
   ]
  },
  {
   "cell_type": "markdown",
   "id": "ac5b3841",
   "metadata": {},
   "source": [
    "## STRING INTERPOLATION"
   ]
  },
  {
   "cell_type": "code",
   "execution_count": 126,
   "id": "2a41dbf2",
   "metadata": {},
   "outputs": [],
   "source": [
    "num1 = 1100\n",
    "num2= 670\n",
    "num3 = 650"
   ]
  },
  {
   "cell_type": "code",
   "execution_count": 121,
   "id": "52e836c2",
   "metadata": {},
   "outputs": [
    {
     "name": "stdout",
     "output_type": "stream",
     "text": [
      "The population of hyderabad is 1100  the male count is  500 and female count is 650\n"
     ]
    }
   ],
   "source": [
    "print('The population of hyderabad is',num1,' the male count is ',num2,'and female count is',num3)"
   ]
  },
  {
   "cell_type": "code",
   "execution_count": 127,
   "id": "74eb4dc5",
   "metadata": {},
   "outputs": [
    {
     "data": {
      "text/plain": [
       "'The population of hyderabad is 1100 the male count is 670 and female count is 650'"
      ]
     },
     "execution_count": 127,
     "metadata": {},
     "output_type": "execute_result"
    }
   ],
   "source": [
    "#.format method\n",
    "'The population of hyderabad is {int1} the male count is {int2} and female count is {int3}'.format(int1 = num1, int2 = num2, int3 =num3)"
   ]
  },
  {
   "cell_type": "code",
   "execution_count": 128,
   "id": "ed079bf5",
   "metadata": {},
   "outputs": [
    {
     "data": {
      "text/plain": [
       "'The population of hyderabad is 1100 the male count is 670 and female count is 650'"
      ]
     },
     "execution_count": 128,
     "metadata": {},
     "output_type": "execute_result"
    }
   ],
   "source": [
    "#f method\n",
    "f'The population of hyderabad is {num1} the male count is {num2} and female count is {num3}'"
   ]
  },
  {
   "cell_type": "code",
   "execution_count": 129,
   "id": "35700d56",
   "metadata": {},
   "outputs": [],
   "source": [
    "#Split Method -- syntax = STRING.split('character')\n",
    "\n",
    "str1 = 'Type.this.sentence.without.dots'"
   ]
  },
  {
   "cell_type": "code",
   "execution_count": 130,
   "id": "c14c7668",
   "metadata": {},
   "outputs": [],
   "source": [
    "str2 = 'Kondapur,Masjid Banda,Hyderabad,Telangana,500084'"
   ]
  },
  {
   "cell_type": "code",
   "execution_count": 136,
   "id": "2b0d4847",
   "metadata": {},
   "outputs": [
    {
     "name": "stdout",
     "output_type": "stream",
     "text": [
      "['Type', 'this', 'sentence', 'without', 'dots']\n"
     ]
    }
   ],
   "source": [
    "split1 = str1.split('.')\n",
    "print(split1)"
   ]
  },
  {
   "cell_type": "code",
   "execution_count": 137,
   "id": "40366d0e",
   "metadata": {},
   "outputs": [
    {
     "name": "stdout",
     "output_type": "stream",
     "text": [
      "['Kondapur', 'Masjid Banda', 'Hyderabad', 'Telangana', '500084']\n"
     ]
    }
   ],
   "source": [
    "split2 =str2.split(',')\n",
    "print(split2)"
   ]
  },
  {
   "cell_type": "code",
   "execution_count": 134,
   "id": "3f516a64",
   "metadata": {},
   "outputs": [],
   "source": [
    "#Join Method --- syntax = 'Character'.join(LIST)"
   ]
  },
  {
   "cell_type": "code",
   "execution_count": 139,
   "id": "6c6f6d2d",
   "metadata": {},
   "outputs": [
    {
     "data": {
      "text/plain": [
       "'Type_this_sentence_without_dots'"
      ]
     },
     "execution_count": 139,
     "metadata": {},
     "output_type": "execute_result"
    }
   ],
   "source": [
    "'_'.join(split1)"
   ]
  },
  {
   "cell_type": "code",
   "execution_count": 156,
   "id": "099d4f08",
   "metadata": {},
   "outputs": [
    {
     "data": {
      "text/plain": [
       "'Kondapur Masjid Banda Hyderabad Telangana 500084'"
      ]
     },
     "execution_count": 156,
     "metadata": {},
     "output_type": "execute_result"
    }
   ],
   "source": [
    "' '.join(split2)"
   ]
  },
  {
   "cell_type": "code",
   "execution_count": 157,
   "id": "20699c3b",
   "metadata": {},
   "outputs": [
    {
     "name": "stdout",
     "output_type": "stream",
     "text": [
      "Kondapur\n",
      "Masjid Banda\n",
      "Hyderabad\n",
      "Telangana\n",
      "500084\n"
     ]
    }
   ],
   "source": [
    "print('\\n'.join(split2))"
   ]
  },
  {
   "cell_type": "code",
   "execution_count": 158,
   "id": "26b1e763",
   "metadata": {},
   "outputs": [],
   "source": [
    "str3 = 'Venu and Kiran are learning Python'"
   ]
  },
  {
   "cell_type": "code",
   "execution_count": 161,
   "id": "a3b94312",
   "metadata": {},
   "outputs": [
    {
     "data": {
      "text/plain": [
       "5"
      ]
     },
     "execution_count": 161,
     "metadata": {},
     "output_type": "execute_result"
    }
   ],
   "source": [
    "# to find the string character/word in the string\n",
    "str3.find('and')"
   ]
  },
  {
   "cell_type": "code",
   "execution_count": 163,
   "id": "23c4273e",
   "metadata": {},
   "outputs": [
    {
     "name": "stdout",
     "output_type": "stream",
     "text": [
      "3 4 6\n"
     ]
    }
   ],
   "source": [
    "#to count the occurences of the string character/word in the string\n",
    "print(str3.count('e'),str3.count('a'),str3.count('n'))"
   ]
  },
  {
   "cell_type": "code",
   "execution_count": 164,
   "id": "09331017",
   "metadata": {},
   "outputs": [],
   "source": [
    "str4 = 'Venu'"
   ]
  },
  {
   "cell_type": "code",
   "execution_count": 169,
   "id": "5b11f5a3",
   "metadata": {},
   "outputs": [
    {
     "name": "stdout",
     "output_type": "stream",
     "text": [
      "4 10    Venu   \n",
      "4 8 Venu    \n",
      "4 9      Venu\n"
     ]
    }
   ],
   "source": [
    "print(len(str4),len(str4.center(10)),str4.center(10))\n",
    "print(len(str4),len(str4.ljust(8)),str4.ljust(8))\n",
    "print(len(str4),len(str4.rjust(9)),str4.rjust(9))"
   ]
  },
  {
   "cell_type": "code",
   "execution_count": 170,
   "id": "bc043203",
   "metadata": {},
   "outputs": [],
   "source": [
    "str5 = 'Kiran'"
   ]
  },
  {
   "cell_type": "code",
   "execution_count": 171,
   "id": "87424dff",
   "metadata": {},
   "outputs": [
    {
     "name": "stdout",
     "output_type": "stream",
     "text": [
      "5 10   Kiran   \n",
      "5 8 Kiran   \n",
      "5 9     Kiran\n"
     ]
    }
   ],
   "source": [
    "print(len(str5),len(str5.center(10)),str5.center(10))\n",
    "print(len(str5),len(str5.ljust(8)),str5.ljust(8))\n",
    "print(len(str5),len(str5.rjust(9)),str5.rjust(9))"
   ]
  },
  {
   "cell_type": "code",
   "execution_count": null,
   "id": "336dd535",
   "metadata": {},
   "outputs": [],
   "source": []
  }
 ],
 "metadata": {
  "kernelspec": {
   "display_name": "Python 3 (ipykernel)",
   "language": "python",
   "name": "python3"
  },
  "language_info": {
   "codemirror_mode": {
    "name": "ipython",
    "version": 3
   },
   "file_extension": ".py",
   "mimetype": "text/x-python",
   "name": "python",
   "nbconvert_exporter": "python",
   "pygments_lexer": "ipython3",
   "version": "3.9.12"
  }
 },
 "nbformat": 4,
 "nbformat_minor": 5
}

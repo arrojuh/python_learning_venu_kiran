{
 "cells": [
  {
   "cell_type": "code",
   "execution_count": null,
   "id": "310245b5",
   "metadata": {},
   "outputs": [],
   "source": [
    "#integers -1,-2,-3,0,1,2,23,100,200,401000, 901000000\n",
    "#float/double -- 0.1,0.11,,500.0,600.122134\n",
    "#string ---  '0.23059tynd&6^%@',\"oooskihfw[]];pp=po-o-\"\n",
    "#boolean -- True, False\n",
    "#date ---   2023-12-01, 12 December 2021, 12/01/2021 01:00:10\n",
    "#list -- [1,'b','worddddddddddddddddddddddddddddd',4.5,True] #mutable -- can be modified\n",
    "#dictionary --- {'key':'value'}---{'a':1,'b':'wordddd','c':7.77}\n",
    "#tuple --- (1,2,3,4,'g','h','r',9.0) #immutable -- cant be modified\n",
    "#set --- {1,2,3,4,4,'b','b','v'} --- {1,2,3,4,'b',v}"
   ]
  }
 ],
 "metadata": {
  "kernelspec": {
   "display_name": "Python 3 (ipykernel)",
   "language": "python",
   "name": "python3"
  },
  "language_info": {
   "codemirror_mode": {
    "name": "ipython",
    "version": 3
   },
   "file_extension": ".py",
   "mimetype": "text/x-python",
   "name": "python",
   "nbconvert_exporter": "python",
   "pygments_lexer": "ipython3",
   "version": "3.9.12"
  }
 },
 "nbformat": 4,
 "nbformat_minor": 5
}

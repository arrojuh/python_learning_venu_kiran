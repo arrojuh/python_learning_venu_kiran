{
 "cells": [
  {
   "cell_type": "code",
   "execution_count": null,
   "id": "b14a7697",
   "metadata": {},
   "outputs": [],
   "source": [
    "#integers -1,-2,-3,0,1,2,23,100,200,401000, 901000000\n",
    "#float/double -- 0.1,0.11,,500.0,600.122134\n",
    "#string ---  '0.23059tynd&6^%@',\"oooskihfw[]];pp=po-o-\"\n",
    "#boolean -- True, False\n",
    "#date ---   2023-12-01, 12 December 2021, 12/01/2021 01:00:10\n",
    "#list -- [1,'b','worddddddddddddddddddddddddddddd',4.5,True] #mutable -- can be modified\n",
    "#dictionary --- {'key':'value'}---{'a':1,'b':'wordddd','c':7.77}\n",
    "#tuple --- (1,2,3,4,'g','h','r',9.0) #immutable -- cant be modified\n",
    "#set --- {1,2,3,4,4,'b','b','v'} --- {1,2,3,4,'b',v}"
   ]
  },
  {
   "cell_type": "code",
   "execution_count": 8,
   "id": "c1f300d3",
   "metadata": {},
   "outputs": [
    {
     "name": "stdout",
     "output_type": "stream",
     "text": [
      "a True 1.0 100\n"
     ]
    }
   ],
   "source": [
    "\n",
    "print('a',True,1.0,ty)#print basic syntax"
   ]
  },
  {
   "cell_type": "code",
   "execution_count": 9,
   "id": "c70d8af5",
   "metadata": {},
   "outputs": [
    {
     "data": {
      "text/plain": [
       "(1, 2.0, True, 56)"
      ]
     },
     "execution_count": 9,
     "metadata": {},
     "output_type": "execute_result"
    }
   ],
   "source": [
    "1,2.0, True, 56"
   ]
  },
  {
   "cell_type": "code",
   "execution_count": 10,
   "id": "08b10c16",
   "metadata": {},
   "outputs": [
    {
     "data": {
      "text/plain": [
       "100"
      ]
     },
     "execution_count": 10,
     "metadata": {},
     "output_type": "execute_result"
    }
   ],
   "source": [
    "10*10"
   ]
  },
  {
   "cell_type": "code",
   "execution_count": 11,
   "id": "ed2c5242",
   "metadata": {},
   "outputs": [],
   "source": [
    "a = 10"
   ]
  },
  {
   "cell_type": "code",
   "execution_count": 12,
   "id": "5ce9cb19",
   "metadata": {},
   "outputs": [
    {
     "name": "stdout",
     "output_type": "stream",
     "text": [
      "10\n"
     ]
    }
   ],
   "source": [
    "print(a)"
   ]
  },
  {
   "cell_type": "code",
   "execution_count": 33,
   "id": "092c5adc",
   "metadata": {},
   "outputs": [],
   "source": [
    "#Variable assignment rules\n",
    "\n",
    "#1  it cannot start with number\n",
    "#1ar = 100\n",
    "\n",
    "#2 it should always start with alphabets or _\n",
    "_ = 10\n",
    "\n",
    "#3 it cannot contain or start with punctuations or symbols\n",
    "ar= 10\n",
    "\n",
    "#4 its case sensitive\n",
    "a = 10\n",
    "A = 20\n",
    "arr = 100\n",
    "Arr = 200\n",
    "\n",
    "# generic practice is that variables should describe the value and use underscore '_' where ever necessary\n",
    "int_add = 10+10"
   ]
  },
  {
   "cell_type": "markdown",
   "id": "ff906c87",
   "metadata": {},
   "source": [
    "# Integers"
   ]
  },
  {
   "cell_type": "code",
   "execution_count": 62,
   "id": "67ea992e",
   "metadata": {},
   "outputs": [],
   "source": [
    "int1 = 70\n",
    "int2 = 100"
   ]
  },
  {
   "cell_type": "markdown",
   "id": "aa5735e3",
   "metadata": {},
   "source": [
    "## Math Operators\n"
   ]
  },
  {
   "cell_type": "code",
   "execution_count": 63,
   "id": "11350e04",
   "metadata": {
    "scrolled": true
   },
   "outputs": [
    {
     "data": {
      "text/plain": [
       "170"
      ]
     },
     "execution_count": 63,
     "metadata": {},
     "output_type": "execute_result"
    }
   ],
   "source": [
    "int1 + int2 # addition "
   ]
  },
  {
   "cell_type": "code",
   "execution_count": 64,
   "id": "d5f2bc10",
   "metadata": {},
   "outputs": [
    {
     "data": {
      "text/plain": [
       "-30"
      ]
     },
     "execution_count": 64,
     "metadata": {},
     "output_type": "execute_result"
    }
   ],
   "source": [
    "int1 - int2 #subtraction"
   ]
  },
  {
   "cell_type": "code",
   "execution_count": 65,
   "id": "132b0659",
   "metadata": {},
   "outputs": [
    {
     "data": {
      "text/plain": [
       "0.7"
      ]
     },
     "execution_count": 65,
     "metadata": {},
     "output_type": "execute_result"
    }
   ],
   "source": [
    "int1/int2 #division"
   ]
  },
  {
   "cell_type": "code",
   "execution_count": 66,
   "id": "1b929eb2",
   "metadata": {},
   "outputs": [
    {
     "data": {
      "text/plain": [
       "7000"
      ]
     },
     "execution_count": 66,
     "metadata": {},
     "output_type": "execute_result"
    }
   ],
   "source": [
    "int1 * int2 #multiplication"
   ]
  },
  {
   "cell_type": "code",
   "execution_count": 71,
   "id": "dc36c7d4",
   "metadata": {},
   "outputs": [
    {
     "data": {
      "text/plain": [
       "1"
      ]
     },
     "execution_count": 71,
     "metadata": {},
     "output_type": "execute_result"
    }
   ],
   "source": [
    "int2//int1 ## quotient or floor division"
   ]
  },
  {
   "cell_type": "code",
   "execution_count": 72,
   "id": "b10d25e4",
   "metadata": {},
   "outputs": [
    {
     "data": {
      "text/plain": [
       "30"
      ]
     },
     "execution_count": 72,
     "metadata": {},
     "output_type": "execute_result"
    }
   ],
   "source": [
    "int2%int1 ## remainder"
   ]
  },
  {
   "cell_type": "markdown",
   "id": "7a625253",
   "metadata": {},
   "source": [
    "## Comparision Operators"
   ]
  },
  {
   "cell_type": "code",
   "execution_count": 77,
   "id": "13d405d6",
   "metadata": {},
   "outputs": [
    {
     "name": "stdout",
     "output_type": "stream",
     "text": [
      "False\n",
      "False\n"
     ]
    }
   ],
   "source": [
    "## Equals to\n",
    "result = int1 == int2\n",
    "print(result)\n",
    "print(int1 == int2)"
   ]
  },
  {
   "cell_type": "code",
   "execution_count": 79,
   "id": "f8449339",
   "metadata": {},
   "outputs": [
    {
     "name": "stdout",
     "output_type": "stream",
     "text": [
      "True\n"
     ]
    }
   ],
   "source": [
    "# not equals to \n",
    "result2 = int1 != int2\n",
    "print(result2)"
   ]
  },
  {
   "cell_type": "code",
   "execution_count": 81,
   "id": "5cc9029e",
   "metadata": {},
   "outputs": [
    {
     "name": "stdout",
     "output_type": "stream",
     "text": [
      "False\n"
     ]
    }
   ],
   "source": [
    "#greater than\n",
    "result3 = int1 > int2\n",
    "print(result3)"
   ]
  },
  {
   "cell_type": "code",
   "execution_count": 82,
   "id": "d5dbbfd1",
   "metadata": {},
   "outputs": [
    {
     "name": "stdout",
     "output_type": "stream",
     "text": [
      "True\n"
     ]
    }
   ],
   "source": [
    "#less than\n",
    "result4 = int1 < int2\n",
    "print(result4)"
   ]
  },
  {
   "cell_type": "code",
   "execution_count": 91,
   "id": "8915bfab",
   "metadata": {},
   "outputs": [
    {
     "name": "stdout",
     "output_type": "stream",
     "text": [
      "False\n"
     ]
    }
   ],
   "source": [
    "#greater or equals to\n",
    "result5 =  int1 >= int2\n",
    "print(result5)"
   ]
  },
  {
   "cell_type": "code",
   "execution_count": 92,
   "id": "8582620e",
   "metadata": {},
   "outputs": [
    {
     "name": "stdout",
     "output_type": "stream",
     "text": [
      "True\n"
     ]
    }
   ],
   "source": [
    "#less or equals to\n",
    "result6 =  int1 <= int2\n",
    "print(result6)"
   ]
  },
  {
   "cell_type": "markdown",
   "id": "167a4011",
   "metadata": {},
   "source": [
    "## Assignment Operators"
   ]
  },
  {
   "cell_type": "code",
   "execution_count": 93,
   "id": "489bb611",
   "metadata": {},
   "outputs": [],
   "source": [
    "int3 = 60"
   ]
  },
  {
   "cell_type": "code",
   "execution_count": 94,
   "id": "d9d9958f",
   "metadata": {},
   "outputs": [
    {
     "name": "stdout",
     "output_type": "stream",
     "text": [
      "60\n"
     ]
    }
   ],
   "source": [
    "print(int3)"
   ]
  },
  {
   "cell_type": "code",
   "execution_count": 95,
   "id": "b67ca30d",
   "metadata": {},
   "outputs": [],
   "source": [
    "int3 = int3 + 50 # python will automatically consider the value of the variable on the right side."
   ]
  },
  {
   "cell_type": "code",
   "execution_count": 96,
   "id": "1eb6cc13",
   "metadata": {},
   "outputs": [
    {
     "name": "stdout",
     "output_type": "stream",
     "text": [
      "110\n"
     ]
    }
   ],
   "source": [
    "print(int3)"
   ]
  },
  {
   "cell_type": "code",
   "execution_count": 99,
   "id": "cc018f75",
   "metadata": {},
   "outputs": [],
   "source": [
    "int3 += 100 #update the value based on the operator and store in the same variable"
   ]
  },
  {
   "cell_type": "code",
   "execution_count": 100,
   "id": "fa9c3f4f",
   "metadata": {},
   "outputs": [
    {
     "name": "stdout",
     "output_type": "stream",
     "text": [
      "210\n"
     ]
    }
   ],
   "source": [
    "print(int3)"
   ]
  },
  {
   "cell_type": "code",
   "execution_count": 101,
   "id": "86d92347",
   "metadata": {},
   "outputs": [],
   "source": [
    "int3 -= 50"
   ]
  },
  {
   "cell_type": "code",
   "execution_count": 102,
   "id": "a1267fc9",
   "metadata": {},
   "outputs": [
    {
     "name": "stdout",
     "output_type": "stream",
     "text": [
      "160\n"
     ]
    }
   ],
   "source": [
    "print(int3)"
   ]
  },
  {
   "cell_type": "code",
   "execution_count": 103,
   "id": "6210b091",
   "metadata": {},
   "outputs": [],
   "source": [
    "int4 = int3 + 50"
   ]
  },
  {
   "cell_type": "code",
   "execution_count": 104,
   "id": "54a56c79",
   "metadata": {},
   "outputs": [
    {
     "name": "stdout",
     "output_type": "stream",
     "text": [
      "210\n"
     ]
    }
   ],
   "source": [
    "print(int4)"
   ]
  },
  {
   "cell_type": "markdown",
   "id": "0dfeb15d",
   "metadata": {},
   "source": [
    "## Logical Operators"
   ]
  },
  {
   "cell_type": "code",
   "execution_count": 107,
   "id": "f0a087e3",
   "metadata": {},
   "outputs": [
    {
     "name": "stdout",
     "output_type": "stream",
     "text": [
      "False\n"
     ]
    }
   ],
   "source": [
    "## and(&) , or(|), not(!)\n",
    "\n",
    "print(int3 == int4)"
   ]
  },
  {
   "cell_type": "code",
   "execution_count": 109,
   "id": "451c2c14",
   "metadata": {},
   "outputs": [
    {
     "name": "stdout",
     "output_type": "stream",
     "text": [
      "True\n"
     ]
    }
   ],
   "source": [
    "print(int3 < int4)"
   ]
  },
  {
   "cell_type": "code",
   "execution_count": 118,
   "id": "67506e72",
   "metadata": {},
   "outputs": [],
   "source": [
    "result_and = (int3 == int4) and (int3 < int4) # until both are True it doesnt return True\n",
    "result_and = (int3 == int4) & (int3 < int4)"
   ]
  },
  {
   "cell_type": "code",
   "execution_count": 121,
   "id": "04f4a667",
   "metadata": {},
   "outputs": [
    {
     "name": "stdout",
     "output_type": "stream",
     "text": [
      "False\n"
     ]
    }
   ],
   "source": [
    "print(result_and)"
   ]
  },
  {
   "cell_type": "code",
   "execution_count": 119,
   "id": "de6b50ee",
   "metadata": {},
   "outputs": [],
   "source": [
    "result_or = (int3 == int4) or (int3 < int4) # until both are False it doesnt return False\n",
    "result_or = (int3 == int4) | (int3 < int4) # until both are False it doesnt return False"
   ]
  },
  {
   "cell_type": "code",
   "execution_count": 120,
   "id": "10464504",
   "metadata": {},
   "outputs": [
    {
     "name": "stdout",
     "output_type": "stream",
     "text": [
      "True\n"
     ]
    }
   ],
   "source": [
    "print(result_or)"
   ]
  },
  {
   "cell_type": "code",
   "execution_count": 117,
   "id": "9d51c80f",
   "metadata": {},
   "outputs": [
    {
     "name": "stdout",
     "output_type": "stream",
     "text": [
      "True\n"
     ]
    }
   ],
   "source": [
    "print(not(int3 == int4))"
   ]
  }
 ],
 "metadata": {
  "kernelspec": {
   "display_name": "Python 3 (ipykernel)",
   "language": "python",
   "name": "python3"
  },
  "language_info": {
   "codemirror_mode": {
    "name": "ipython",
    "version": 3
   },
   "file_extension": ".py",
   "mimetype": "text/x-python",
   "name": "python",
   "nbconvert_exporter": "python",
   "pygments_lexer": "ipython3",
   "version": "3.9.12"
  }
 },
 "nbformat": 4,
 "nbformat_minor": 5
}

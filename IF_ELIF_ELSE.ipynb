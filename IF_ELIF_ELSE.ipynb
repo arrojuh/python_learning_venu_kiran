{
 "cells": [
  {
   "cell_type": "markdown",
   "id": "b6fca3cf",
   "metadata": {},
   "source": [
    "# if_elif_else"
   ]
  },
  {
   "cell_type": "markdown",
   "id": "54f499c7",
   "metadata": {},
   "source": [
    "## IF ELSE"
   ]
  },
  {
   "cell_type": "code",
   "execution_count": 69,
   "id": "089f5dc3",
   "metadata": {},
   "outputs": [],
   "source": [
    "## NOTE:: 'if' statement always considers the condition to be TRUE:"
   ]
  },
  {
   "cell_type": "code",
   "execution_count": 4,
   "id": "ce7ea881",
   "metadata": {},
   "outputs": [],
   "source": [
    "#flt1 = 2.1\n",
    "#flt1>0 --> Positive\n",
    "# flt1<0 --> Negative\n",
    "# flt1==0 -->Zero"
   ]
  },
  {
   "cell_type": "markdown",
   "id": "82cfbbe1",
   "metadata": {},
   "source": [
    "### IF STATEMENT"
   ]
  },
  {
   "cell_type": "code",
   "execution_count": 5,
   "id": "0dec49e2",
   "metadata": {},
   "outputs": [],
   "source": [
    "#Syntax\n",
    "# if condition:\n",
    "    #do something"
   ]
  },
  {
   "cell_type": "code",
   "execution_count": 9,
   "id": "ed5e1c05",
   "metadata": {},
   "outputs": [
    {
     "name": "stdout",
     "output_type": "stream",
     "text": [
      "POSITIVE\n"
     ]
    }
   ],
   "source": [
    "flt1 = 2.1\n",
    "if (flt1>0) ==True:\n",
    "    print('POSITIVE')\n"
   ]
  },
  {
   "cell_type": "code",
   "execution_count": 15,
   "id": "ec3c0bb1",
   "metadata": {},
   "outputs": [
    {
     "name": "stdout",
     "output_type": "stream",
     "text": [
      "ZERO\n"
     ]
    }
   ],
   "source": [
    "flt1 = 0\n",
    "if (flt1>0) ==True:  ### STATEMENT 1\n",
    "    print('POSITIVE')\n",
    "    \n",
    "if (flt1<0) == True: ### STATEMENT 2\n",
    "    print('NEGATIVE')\n",
    "     \n",
    "if (flt1==0) == True: ### STATEMENT 3\n",
    "    print('ZERO')"
   ]
  },
  {
   "cell_type": "markdown",
   "id": "08da20de",
   "metadata": {},
   "source": [
    "### IF ELSE"
   ]
  },
  {
   "cell_type": "code",
   "execution_count": 18,
   "id": "7c769633",
   "metadata": {},
   "outputs": [
    {
     "data": {
      "text/plain": [
       "'if CONDITION:\\n     DO SOMETHING\\n   else:\\n    DO SOMETHING ELSE'"
      ]
     },
     "execution_count": 18,
     "metadata": {},
     "output_type": "execute_result"
    }
   ],
   "source": [
    "#SYNTAX\n",
    "'''if CONDITION:\n",
    "     DO SOMETHING\n",
    "   else:\n",
    "    DO SOMETHING ELSE'''"
   ]
  },
  {
   "cell_type": "code",
   "execution_count": 33,
   "id": "80d6781f",
   "metadata": {},
   "outputs": [
    {
     "name": "stdout",
     "output_type": "stream",
     "text": [
      "A IS GREATER THAN 90\n"
     ]
    }
   ],
   "source": [
    "a = 100\n",
    "b = 100\n",
    "\n",
    "if a>90: ### STATEMENT 1\n",
    "    print(\"A IS GREATER THAN 90\")\n",
    "else:\n",
    "    print('B GREATER THAN 90')"
   ]
  },
  {
   "cell_type": "code",
   "execution_count": 32,
   "id": "2ca2dcc5",
   "metadata": {},
   "outputs": [
    {
     "name": "stdout",
     "output_type": "stream",
     "text": [
      " A IS GREATER THAN 90\n",
      " B LESS THAN 90\n"
     ]
    }
   ],
   "source": [
    "a = 100\n",
    "b = 100\n",
    "\n",
    "if a>90: ## STATEMENT 1\n",
    "    print(\" A IS GREATER THAN 90\")\n",
    "    \n",
    "if b>90: ## STATEMENT 2\n",
    "    print(' B GREATER THAN 90')"
   ]
  },
  {
   "cell_type": "markdown",
   "id": "4e73dfa2",
   "metadata": {},
   "source": [
    "### IF ELIF ELSE"
   ]
  },
  {
   "cell_type": "code",
   "execution_count": 66,
   "id": "e05d96f5",
   "metadata": {},
   "outputs": [],
   "source": [
    "# Is flt1 > 10 if not is it print positive\n",
    "flt1 = 10.09"
   ]
  },
  {
   "cell_type": "code",
   "execution_count": 67,
   "id": "97b37761",
   "metadata": {},
   "outputs": [
    {
     "name": "stdout",
     "output_type": "stream",
     "text": [
      "GREATER THAN 10\n",
      "POSITIVE\n"
     ]
    }
   ],
   "source": [
    "if flt1>10: # STATEMENT 1\n",
    "    print(\"GREATER THAN 10\")\n",
    "    \n",
    "if flt1>0:# STATEMENT 2\n",
    "    print('POSITIVE')\n",
    "\n",
    "if flt1==0:# STATEMENT 3\n",
    "    print(\"ZERO\")"
   ]
  },
  {
   "cell_type": "code",
   "execution_count": 68,
   "id": "f5d131fb",
   "metadata": {},
   "outputs": [
    {
     "name": "stdout",
     "output_type": "stream",
     "text": [
      "GREATER THAN 10\n"
     ]
    }
   ],
   "source": [
    "if flt1>10: ### SINGLE STATEMENT \n",
    "    print(\"GREATER THAN 10\")\n",
    "elif flt1>0:\n",
    "    print(\"POSITIVE\")\n",
    "else:\n",
    "    print(\"NEGATIVE or ZER0\")"
   ]
  },
  {
   "cell_type": "code",
   "execution_count": 76,
   "id": "b2bdae18",
   "metadata": {},
   "outputs": [
    {
     "name": "stdout",
     "output_type": "stream",
     "text": [
      "They are matching\n"
     ]
    }
   ],
   "source": [
    "## USING LOGICAL OPERATORS IN IF ELSE\n",
    "c = 10\n",
    "d = 30\n",
    "\n",
    "if (c==10) and (d==30):\n",
    "    print('They are matching')\n",
    "elif (c==10) or (d == 30):\n",
    "    print('one of them is matching')\n",
    "else:\n",
    "    print(\"None of them is Matching\")"
   ]
  },
  {
   "cell_type": "code",
   "execution_count": null,
   "id": "a53a67ff",
   "metadata": {},
   "outputs": [],
   "source": []
  }
 ],
 "metadata": {
  "kernelspec": {
   "display_name": "Python 3 (ipykernel)",
   "language": "python",
   "name": "python3"
  },
  "language_info": {
   "codemirror_mode": {
    "name": "ipython",
    "version": 3
   },
   "file_extension": ".py",
   "mimetype": "text/x-python",
   "name": "python",
   "nbconvert_exporter": "python",
   "pygments_lexer": "ipython3",
   "version": "3.9.12"
  }
 },
 "nbformat": 4,
 "nbformat_minor": 5
}

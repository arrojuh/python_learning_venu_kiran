{
 "cells": [
  {
   "cell_type": "code",
   "execution_count": 1,
   "id": "e15a1109",
   "metadata": {},
   "outputs": [
    {
     "ename": "ZeroDivisionError",
     "evalue": "division by zero",
     "output_type": "error",
     "traceback": [
      "\u001b[1;31m---------------------------------------------------------------------------\u001b[0m",
      "\u001b[1;31mZeroDivisionError\u001b[0m                         Traceback (most recent call last)",
      "Input \u001b[1;32mIn [1]\u001b[0m, in \u001b[0;36m<cell line: 1>\u001b[1;34m()\u001b[0m\n\u001b[1;32m----> 1\u001b[0m \u001b[38;5;241;43m10\u001b[39;49m\u001b[38;5;241;43m/\u001b[39;49m\u001b[38;5;241;43m0\u001b[39;49m\n",
      "\u001b[1;31mZeroDivisionError\u001b[0m: division by zero"
     ]
    }
   ],
   "source": [
    "10/0"
   ]
  },
  {
   "cell_type": "code",
   "execution_count": 2,
   "id": "034aed18",
   "metadata": {},
   "outputs": [
    {
     "ename": "ValueError",
     "evalue": "invalid literal for int() with base 10: 'a'",
     "output_type": "error",
     "traceback": [
      "\u001b[1;31m---------------------------------------------------------------------------\u001b[0m",
      "\u001b[1;31mValueError\u001b[0m                                Traceback (most recent call last)",
      "Input \u001b[1;32mIn [2]\u001b[0m, in \u001b[0;36m<cell line: 1>\u001b[1;34m()\u001b[0m\n\u001b[1;32m----> 1\u001b[0m \u001b[38;5;28;43mint\u001b[39;49m\u001b[43m(\u001b[49m\u001b[38;5;124;43m'\u001b[39;49m\u001b[38;5;124;43ma\u001b[39;49m\u001b[38;5;124;43m'\u001b[39;49m\u001b[43m)\u001b[49m\n",
      "\u001b[1;31mValueError\u001b[0m: invalid literal for int() with base 10: 'a'"
     ]
    }
   ],
   "source": [
    "int('a')"
   ]
  },
  {
   "cell_type": "code",
   "execution_count": 5,
   "id": "f6a190cd",
   "metadata": {},
   "outputs": [
    {
     "ename": "SyntaxError",
     "evalue": "invalid syntax (1270904309.py, line 1)",
     "output_type": "error",
     "traceback": [
      "\u001b[1;36m  Input \u001b[1;32mIn [5]\u001b[1;36m\u001b[0m\n\u001b[1;33m    a = ['1',2,:]\u001b[0m\n\u001b[1;37m               ^\u001b[0m\n\u001b[1;31mSyntaxError\u001b[0m\u001b[1;31m:\u001b[0m invalid syntax\n"
     ]
    }
   ],
   "source": [
    "a = ['1',2,:]"
   ]
  },
  {
   "cell_type": "code",
   "execution_count": 6,
   "id": "e9bb415a",
   "metadata": {},
   "outputs": [
    {
     "ename": "IndexError",
     "evalue": "list index out of range",
     "output_type": "error",
     "traceback": [
      "\u001b[1;31m---------------------------------------------------------------------------\u001b[0m",
      "\u001b[1;31mIndexError\u001b[0m                                Traceback (most recent call last)",
      "Input \u001b[1;32mIn [6]\u001b[0m, in \u001b[0;36m<cell line: 2>\u001b[1;34m()\u001b[0m\n\u001b[0;32m      1\u001b[0m b \u001b[38;5;241m=\u001b[39m [\u001b[38;5;124m'\u001b[39m\u001b[38;5;124m1\u001b[39m\u001b[38;5;124m'\u001b[39m,\u001b[38;5;124m'\u001b[39m\u001b[38;5;124m4\u001b[39m\u001b[38;5;124m'\u001b[39m,\u001b[38;5;124m'\u001b[39m\u001b[38;5;124m5\u001b[39m\u001b[38;5;124m'\u001b[39m]\n\u001b[1;32m----> 2\u001b[0m \u001b[43mb\u001b[49m\u001b[43m[\u001b[49m\u001b[38;5;241;43m7\u001b[39;49m\u001b[43m]\u001b[49m\n",
      "\u001b[1;31mIndexError\u001b[0m: list index out of range"
     ]
    }
   ],
   "source": [
    "b = ['1','4','5']\n",
    "b[7]"
   ]
  },
  {
   "cell_type": "markdown",
   "id": "4b5c1457",
   "metadata": {},
   "source": [
    "# Error Handling with try-except block"
   ]
  },
  {
   "cell_type": "code",
   "execution_count": 7,
   "id": "abc171b7",
   "metadata": {},
   "outputs": [
    {
     "name": "stdout",
     "output_type": "stream",
     "text": [
      "not possible\n"
     ]
    }
   ],
   "source": [
    "try:\n",
    "    a = 10/0\n",
    "except:\n",
    "    print('not possible')"
   ]
  },
  {
   "cell_type": "code",
   "execution_count": 16,
   "id": "7adc3980",
   "metadata": {},
   "outputs": [
    {
     "name": "stdout",
     "output_type": "stream",
     "text": [
      ";:pop\n"
     ]
    },
    {
     "ename": "ValueError",
     "evalue": "invalid literal for int() with base 10: 'pop'",
     "output_type": "error",
     "traceback": [
      "\u001b[1;31m---------------------------------------------------------------------------\u001b[0m",
      "\u001b[1;31mValueError\u001b[0m                                Traceback (most recent call last)",
      "Input \u001b[1;32mIn [16]\u001b[0m, in \u001b[0;36m<cell line: 1>\u001b[1;34m()\u001b[0m\n\u001b[1;32m----> 1\u001b[0m \u001b[38;5;28;43mint\u001b[39;49m\u001b[43m(\u001b[49m\u001b[38;5;28;43minput\u001b[39;49m\u001b[43m(\u001b[49m\u001b[38;5;124;43m\"\u001b[39;49m\u001b[38;5;124;43m;:\u001b[39;49m\u001b[38;5;124;43m\"\u001b[39;49m\u001b[43m)\u001b[49m\u001b[43m)\u001b[49m\n",
      "\u001b[1;31mValueError\u001b[0m: invalid literal for int() with base 10: 'pop'"
     ]
    }
   ],
   "source": [
    "int(input(\";:\"))"
   ]
  },
  {
   "cell_type": "code",
   "execution_count": 20,
   "id": "9965bf30",
   "metadata": {},
   "outputs": [
    {
     "name": "stdout",
     "output_type": "stream",
     "text": [
      "Enter your age:: ui\n",
      "Please enter a valid number::\n",
      "Enter your age in number:: 98\n"
     ]
    }
   ],
   "source": [
    "#handling any type of error\n",
    "a= input('Enter your age:: ')\n",
    "try:\n",
    "    b = int(a)\n",
    "    print('You entered:: ',a)\n",
    "except :\n",
    "    print('Please enter a valid number::')\n",
    "    a = input('Enter your age in number:: ')"
   ]
  },
  {
   "cell_type": "code",
   "execution_count": 21,
   "id": "c3c4d0cf",
   "metadata": {},
   "outputs": [
    {
     "name": "stdout",
     "output_type": "stream",
     "text": [
      "Enter your age:: ty\n",
      "Please enter a valid number::\n",
      "Enter your age in number:: 54\n"
     ]
    }
   ],
   "source": [
    "#handling specific type of error\n",
    "a= input('Enter your age:: ')\n",
    "try:\n",
    "    b = int(a)\n",
    "    print('You entered:: ',a)\n",
    "except ValueError:\n",
    "    print('Please enter a valid number::')\n",
    "    a = input('Enter your age in number:: ')"
   ]
  },
  {
   "cell_type": "code",
   "execution_count": 22,
   "id": "1f97cf6c",
   "metadata": {},
   "outputs": [
    {
     "name": "stdout",
     "output_type": "stream",
     "text": [
      "Enter your age:: tr\n",
      "Please enter a valid number::\n",
      "Enter your age in number:: 65\n"
     ]
    }
   ],
   "source": [
    "#handling multiple type of errors\n",
    "a= input('Enter your age:: ')\n",
    "try:\n",
    "    b = int(a)\n",
    "    print('You entered:: ',a)\n",
    "except (ValueError,IndexError):\n",
    "    print('Please enter a valid number::')\n",
    "    a = input('Enter your age in number:: ')"
   ]
  },
  {
   "cell_type": "markdown",
   "id": "5ae2f4aa",
   "metadata": {},
   "source": [
    "## try-except-else"
   ]
  },
  {
   "cell_type": "code",
   "execution_count": 29,
   "id": "101180b8",
   "metadata": {},
   "outputs": [
    {
     "name": "stdout",
     "output_type": "stream",
     "text": [
      "::ay\n",
      "this is an Value Error\n"
     ]
    }
   ],
   "source": [
    "a = input('::')\n",
    "try:\n",
    "    b = int(a)\n",
    "    print('b:',b)\n",
    "except ValueError:\n",
    "    print('this is an Value Error')\n",
    "else:\n",
    "    print('Its not a right answer')"
   ]
  },
  {
   "cell_type": "code",
   "execution_count": 30,
   "id": "62472d58",
   "metadata": {},
   "outputs": [
    {
     "name": "stdout",
     "output_type": "stream",
     "text": [
      "::iu\n",
      "Its not a right answer\n"
     ]
    }
   ],
   "source": [
    "a = input('::') # Else works when no exception is raised \n",
    "try:\n",
    "    a\n",
    "except ValueError:\n",
    "    print('this is an Value Error')\n",
    "else:\n",
    "    print('Its not a right answer')"
   ]
  },
  {
   "cell_type": "markdown",
   "id": "c50426ac",
   "metadata": {},
   "source": [
    "## try-except-else-finally"
   ]
  },
  {
   "cell_type": "code",
   "execution_count": 37,
   "id": "1dc69627",
   "metadata": {},
   "outputs": [
    {
     "name": "stdout",
     "output_type": "stream",
     "text": [
      "::12\n",
      "this is gonna print always\n"
     ]
    },
    {
     "ename": "IndexError",
     "evalue": "string index out of range",
     "output_type": "error",
     "traceback": [
      "\u001b[1;31m---------------------------------------------------------------------------\u001b[0m",
      "\u001b[1;31mIndexError\u001b[0m                                Traceback (most recent call last)",
      "Input \u001b[1;32mIn [37]\u001b[0m, in \u001b[0;36m<cell line: 2>\u001b[1;34m()\u001b[0m\n\u001b[0;32m      1\u001b[0m a \u001b[38;5;241m=\u001b[39m \u001b[38;5;28minput\u001b[39m(\u001b[38;5;124m'\u001b[39m\u001b[38;5;124m::\u001b[39m\u001b[38;5;124m'\u001b[39m) \u001b[38;5;66;03m# Finally works no matter what\u001b[39;00m\n\u001b[0;32m      2\u001b[0m \u001b[38;5;28;01mtry\u001b[39;00m:\n\u001b[1;32m----> 3\u001b[0m     \u001b[43ma\u001b[49m\u001b[43m[\u001b[49m\u001b[38;5;241;43m3\u001b[39;49m\u001b[43m]\u001b[49m\n\u001b[0;32m      4\u001b[0m \u001b[38;5;28;01mexcept\u001b[39;00m \u001b[38;5;167;01mValueError\u001b[39;00m:\n\u001b[0;32m      5\u001b[0m     \u001b[38;5;28mprint\u001b[39m(\u001b[38;5;124m'\u001b[39m\u001b[38;5;124mthis is an Value Error\u001b[39m\u001b[38;5;124m'\u001b[39m)\n",
      "\u001b[1;31mIndexError\u001b[0m: string index out of range"
     ]
    }
   ],
   "source": [
    "a = input('::') # Finally works no matter what\n",
    "try:\n",
    "    a[3]\n",
    "except ValueError:\n",
    "    print('this is an Value Error')\n",
    "else:\n",
    "    print('Its not a right answer')\n",
    "finally:\n",
    "    print('this is gonna print always')"
   ]
  },
  {
   "cell_type": "code",
   "execution_count": 39,
   "id": "e684c769",
   "metadata": {},
   "outputs": [],
   "source": [
    "## try-except-finally"
   ]
  },
  {
   "cell_type": "code",
   "execution_count": 41,
   "id": "21fcedd7",
   "metadata": {
    "scrolled": true
   },
   "outputs": [
    {
     "name": "stdout",
     "output_type": "stream",
     "text": [
      "::12345\n",
      "this is gonna print always\n"
     ]
    }
   ],
   "source": [
    "a = input('::') # Finally works no matter what\n",
    "try:\n",
    "    a[3]\n",
    "except ValueError:\n",
    "    print('this is an Value Error')\n",
    "finally:\n",
    "    print('this is gonna print always')"
   ]
  },
  {
   "cell_type": "code",
   "execution_count": null,
   "id": "fa57685c",
   "metadata": {},
   "outputs": [],
   "source": []
  }
 ],
 "metadata": {
  "kernelspec": {
   "display_name": "Python 3 (ipykernel)",
   "language": "python",
   "name": "python3"
  },
  "language_info": {
   "codemirror_mode": {
    "name": "ipython",
    "version": 3
   },
   "file_extension": ".py",
   "mimetype": "text/x-python",
   "name": "python",
   "nbconvert_exporter": "python",
   "pygments_lexer": "ipython3",
   "version": "3.9.12"
  }
 },
 "nbformat": 4,
 "nbformat_minor": 5
}

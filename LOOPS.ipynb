{
 "cells": [
  {
   "cell_type": "code",
   "execution_count": 1,
   "id": "91a461ee",
   "metadata": {},
   "outputs": [],
   "source": [
    "# loop is a continuous cycle of iterations"
   ]
  },
  {
   "cell_type": "markdown",
   "id": "e166c000",
   "metadata": {},
   "source": [
    "# FOR LOOP"
   ]
  },
  {
   "cell_type": "markdown",
   "id": "2cad0bae",
   "metadata": {},
   "source": [
    "#### for loop contains a specific range to work with or an iterable"
   ]
  },
  {
   "cell_type": "code",
   "execution_count": 16,
   "id": "3a04dc58",
   "metadata": {},
   "outputs": [],
   "source": [
    "a=range(1,10)# range(start,end,step)"
   ]
  },
  {
   "cell_type": "code",
   "execution_count": 11,
   "id": "327319e5",
   "metadata": {
    "scrolled": true
   },
   "outputs": [
    {
     "name": "stdout",
     "output_type": "stream",
     "text": [
      "1 2 3 4 5\n"
     ]
    }
   ],
   "source": [
    "print(a[0],a[1],a[2],a[3],a[4])"
   ]
  },
  {
   "cell_type": "code",
   "execution_count": 29,
   "id": "7a6d0750",
   "metadata": {},
   "outputs": [
    {
     "name": "stdout",
     "output_type": "stream",
     "text": [
      "1\n",
      "2\n",
      "3\n",
      "4\n",
      "5\n",
      "6\n",
      "7\n",
      "8\n",
      "9\n"
     ]
    }
   ],
   "source": [
    "for number in range(1,10) :\n",
    "    print(number)"
   ]
  },
  {
   "cell_type": "code",
   "execution_count": 24,
   "id": "56668c9c",
   "metadata": {},
   "outputs": [
    {
     "name": "stdout",
     "output_type": "stream",
     "text": [
      "p\n",
      "y\n",
      "t\n",
      "h\n",
      "o\n",
      "n\n"
     ]
    }
   ],
   "source": [
    "for i in 'python':\n",
    "    print(i)"
   ]
  },
  {
   "cell_type": "code",
   "execution_count": 25,
   "id": "4bf4f319",
   "metadata": {},
   "outputs": [
    {
     "name": "stdout",
     "output_type": "stream",
     "text": [
      "a\n",
      "b\n",
      "c\n",
      "d\n"
     ]
    }
   ],
   "source": [
    "for i in ['a','b','c','d']:\n",
    "    print(i)"
   ]
  },
  {
   "cell_type": "code",
   "execution_count": 27,
   "id": "b092661e",
   "metadata": {},
   "outputs": [
    {
     "name": "stdout",
     "output_type": "stream",
     "text": [
      "e\n",
      "f\n",
      "g\n"
     ]
    }
   ],
   "source": [
    "for letter in ('e','f','g'):\n",
    "    print(letter)"
   ]
  },
  {
   "cell_type": "markdown",
   "id": "8097e310",
   "metadata": {},
   "source": [
    "# WHILE LOOP"
   ]
  },
  {
   "cell_type": "code",
   "execution_count": 30,
   "id": "9795efb6",
   "metadata": {},
   "outputs": [
    {
     "data": {
      "text/plain": [
       "'while condition:\\n        do something'"
      ]
     },
     "execution_count": 30,
     "metadata": {},
     "output_type": "execute_result"
    }
   ],
   "source": [
    "# while loop works till the conditon is satisfied\n",
    "# syntax ---->\n",
    "'''while condition:\n",
    "        do something'''"
   ]
  },
  {
   "cell_type": "code",
   "execution_count": 31,
   "id": "875cb9d8",
   "metadata": {},
   "outputs": [],
   "source": [
    "a = 10\n",
    "while a>10:\n",
    "    print('a')"
   ]
  },
  {
   "cell_type": "code",
   "execution_count": 32,
   "id": "a3c5b085",
   "metadata": {},
   "outputs": [],
   "source": [
    "while a<10:\n",
    "    print(a)"
   ]
  },
  {
   "cell_type": "code",
   "execution_count": 34,
   "id": "491f6f01",
   "metadata": {},
   "outputs": [
    {
     "name": "stdout",
     "output_type": "stream",
     "text": [
      "10\n",
      "11\n",
      "12\n",
      "13\n",
      "14\n",
      "15\n",
      "16\n",
      "17\n",
      "18\n",
      "19\n"
     ]
    }
   ],
   "source": [
    "while a<20:\n",
    "    print(a)\n",
    "    a = a+1"
   ]
  },
  {
   "cell_type": "code",
   "execution_count": 45,
   "id": "414722a5",
   "metadata": {},
   "outputs": [
    {
     "name": "stdout",
     "output_type": "stream",
     "text": [
      "Enter your age:: 12\n",
      "0\n",
      "1\n",
      "2\n",
      "3\n",
      "4\n",
      "5\n",
      "6\n",
      "7\n",
      "8\n",
      "9\n",
      "10\n"
     ]
    }
   ],
   "source": [
    "b = input('Enter your age:: ')#step1\n",
    "right = True #step2\n",
    "number = 0\n",
    "while right == True:#step3\n",
    "    if number<11:\n",
    "        print(number)\n",
    "        number = number+1\n",
    "    else:\n",
    "        right = False\n",
    "    \n",
    "    "
   ]
  },
  {
   "cell_type": "code",
   "execution_count": null,
   "id": "4aed8150",
   "metadata": {},
   "outputs": [],
   "source": []
  }
 ],
 "metadata": {
  "kernelspec": {
   "display_name": "Python 3 (ipykernel)",
   "language": "python",
   "name": "python3"
  },
  "language_info": {
   "codemirror_mode": {
    "name": "ipython",
    "version": 3
   },
   "file_extension": ".py",
   "mimetype": "text/x-python",
   "name": "python",
   "nbconvert_exporter": "python",
   "pygments_lexer": "ipython3",
   "version": "3.9.12"
  }
 },
 "nbformat": 4,
 "nbformat_minor": 5
}

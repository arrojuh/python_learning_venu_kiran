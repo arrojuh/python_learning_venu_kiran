{
 "cells": [
  {
   "cell_type": "code",
   "execution_count": 1,
   "id": "fadaa07e",
   "metadata": {},
   "outputs": [],
   "source": [
    "# Collection of Key:Value pairs in {}\n",
    "#dictionary doesnt exist as either key or value"
   ]
  },
  {
   "cell_type": "code",
   "execution_count": 2,
   "id": "3af45fa6",
   "metadata": {},
   "outputs": [],
   "source": [
    "#Method1\n",
    "dict1 = {'A':1,'B':2,'C':3}"
   ]
  },
  {
   "cell_type": "code",
   "execution_count": 3,
   "id": "0d492dc6",
   "metadata": {},
   "outputs": [
    {
     "name": "stdout",
     "output_type": "stream",
     "text": [
      "{'A': 1, 'B': 2, 'C': 3}\n"
     ]
    }
   ],
   "source": [
    "print(dict1)"
   ]
  },
  {
   "cell_type": "code",
   "execution_count": 6,
   "id": "4dc1d9da",
   "metadata": {},
   "outputs": [],
   "source": [
    "# Method2\n",
    "dict2 = dict(name = 'Hari',age = 25)"
   ]
  },
  {
   "cell_type": "code",
   "execution_count": 7,
   "id": "485bae09",
   "metadata": {},
   "outputs": [
    {
     "name": "stdout",
     "output_type": "stream",
     "text": [
      "{'name': 'Hari', 'age': 25}\n"
     ]
    }
   ],
   "source": [
    "print(dict2)"
   ]
  },
  {
   "cell_type": "code",
   "execution_count": 48,
   "id": "e6f20954",
   "metadata": {},
   "outputs": [],
   "source": [
    "#Method3\n",
    "dict4 = dict([('phone',1234),('age',12),('region','India')])"
   ]
  },
  {
   "cell_type": "code",
   "execution_count": 51,
   "id": "1ded8d40",
   "metadata": {},
   "outputs": [],
   "source": [
    "dict4['age'] = 22"
   ]
  },
  {
   "cell_type": "code",
   "execution_count": 52,
   "id": "d884e4a8",
   "metadata": {},
   "outputs": [
    {
     "name": "stdout",
     "output_type": "stream",
     "text": [
      "{'phone': 1234, 'age': 22, 'region': 'India'}\n"
     ]
    }
   ],
   "source": [
    "print(dict4)"
   ]
  },
  {
   "cell_type": "code",
   "execution_count": 73,
   "id": "399e4909",
   "metadata": {},
   "outputs": [],
   "source": [
    "dict3 = {'A':'B',1:2,(4,5):[1,2,2,3],1.034:\"D\"}"
   ]
  },
  {
   "cell_type": "code",
   "execution_count": 24,
   "id": "9e77ce67",
   "metadata": {},
   "outputs": [
    {
     "data": {
      "text/plain": [
       "{'A': 'B', 1: 2, (4, 5): [1, 2, 2, 3], 1.034: 'D'}"
      ]
     },
     "execution_count": 24,
     "metadata": {},
     "output_type": "execute_result"
    }
   ],
   "source": [
    "dict3"
   ]
  },
  {
   "cell_type": "code",
   "execution_count": 25,
   "id": "f20069b7",
   "metadata": {},
   "outputs": [],
   "source": [
    "#To access a dictioary we can use keys"
   ]
  },
  {
   "cell_type": "code",
   "execution_count": 26,
   "id": "becb6c23",
   "metadata": {},
   "outputs": [
    {
     "data": {
      "text/plain": [
       "2"
      ]
     },
     "execution_count": 26,
     "metadata": {},
     "output_type": "execute_result"
    }
   ],
   "source": [
    "dict3[1]"
   ]
  },
  {
   "cell_type": "code",
   "execution_count": 27,
   "id": "f01a6b43",
   "metadata": {},
   "outputs": [
    {
     "data": {
      "text/plain": [
       "[1, 2, 2, 3]"
      ]
     },
     "execution_count": 27,
     "metadata": {},
     "output_type": "execute_result"
    }
   ],
   "source": [
    "dict3[(4,5)]"
   ]
  },
  {
   "cell_type": "code",
   "execution_count": 28,
   "id": "52dbbabe",
   "metadata": {},
   "outputs": [
    {
     "data": {
      "text/plain": [
       "'D'"
      ]
     },
     "execution_count": 28,
     "metadata": {},
     "output_type": "execute_result"
    }
   ],
   "source": [
    "dict3[1.034]"
   ]
  },
  {
   "cell_type": "code",
   "execution_count": 29,
   "id": "d9023367",
   "metadata": {},
   "outputs": [],
   "source": [
    "dict3[1] = 'Python' # to modify the value for that key"
   ]
  },
  {
   "cell_type": "code",
   "execution_count": 30,
   "id": "a4d1b4d5",
   "metadata": {},
   "outputs": [
    {
     "name": "stdout",
     "output_type": "stream",
     "text": [
      "{'A': 'B', 1: 'Python', (4, 5): [1, 2, 2, 3], 1.034: 'D'}\n"
     ]
    }
   ],
   "source": [
    "print(dict3)"
   ]
  },
  {
   "cell_type": "code",
   "execution_count": 31,
   "id": "c1ece7c9",
   "metadata": {},
   "outputs": [],
   "source": [
    "new_dict ={'F':901}"
   ]
  },
  {
   "cell_type": "code",
   "execution_count": 32,
   "id": "3839e3b1",
   "metadata": {},
   "outputs": [],
   "source": [
    "dict3.update(new_dict) # TO UPDATE/ADD KEY VALUE PAIRS FROM OTHER DICTIONARY"
   ]
  },
  {
   "cell_type": "code",
   "execution_count": 33,
   "id": "a1ea7fb5",
   "metadata": {},
   "outputs": [
    {
     "name": "stdout",
     "output_type": "stream",
     "text": [
      "{'A': 'B', 1: 'Python', (4, 5): [1, 2, 2, 3], 1.034: 'D', 'F': 901}\n"
     ]
    }
   ],
   "source": [
    "print(dict3)"
   ]
  },
  {
   "cell_type": "code",
   "execution_count": 35,
   "id": "f2dba42a",
   "metadata": {},
   "outputs": [],
   "source": [
    "dict3[10] = 'New' #if the key is already exisitng it updates or else it creates a new key value pair"
   ]
  },
  {
   "cell_type": "code",
   "execution_count": 36,
   "id": "8ddd7525",
   "metadata": {},
   "outputs": [
    {
     "name": "stdout",
     "output_type": "stream",
     "text": [
      "{'A': 'B', 1: 'Python', (4, 5): [1, 2, 2, 3], 1.034: 'D', 'F': 901, 10: 'New'}\n"
     ]
    }
   ],
   "source": [
    "print(dict3)"
   ]
  },
  {
   "cell_type": "code",
   "execution_count": 46,
   "id": "3dc39411",
   "metadata": {},
   "outputs": [
    {
     "data": {
      "text/plain": [
       "dict_keys(['A', 1, (4, 5), 1.034, 'F', 10])"
      ]
     },
     "execution_count": 46,
     "metadata": {},
     "output_type": "execute_result"
    }
   ],
   "source": [
    "#to check all the keys\n",
    "dict3.keys()"
   ]
  },
  {
   "cell_type": "code",
   "execution_count": 38,
   "id": "8100ba15",
   "metadata": {},
   "outputs": [
    {
     "data": {
      "text/plain": [
       "dict_values(['B', 'Python', [1, 2, 2, 3], 'D', 901, 'New'])"
      ]
     },
     "execution_count": 38,
     "metadata": {},
     "output_type": "execute_result"
    }
   ],
   "source": [
    "#to check all the values\n",
    "dict3.values()"
   ]
  },
  {
   "cell_type": "code",
   "execution_count": 39,
   "id": "329d7d0a",
   "metadata": {},
   "outputs": [
    {
     "data": {
      "text/plain": [
       "dict_items([('A', 'B'), (1, 'Python'), ((4, 5), [1, 2, 2, 3]), (1.034, 'D'), ('F', 901), (10, 'New')])"
      ]
     },
     "execution_count": 39,
     "metadata": {},
     "output_type": "execute_result"
    }
   ],
   "source": [
    "# to check key,value pairs\n",
    "dict3.items()"
   ]
  },
  {
   "cell_type": "code",
   "execution_count": 58,
   "id": "d3e84440",
   "metadata": {},
   "outputs": [
    {
     "data": {
      "text/plain": [
       "'B'"
      ]
     },
     "execution_count": 58,
     "metadata": {},
     "output_type": "execute_result"
    }
   ],
   "source": [
    "dict3.get('A') # GET method returns the value of a Key if present else doesn't give an error if not present"
   ]
  },
  {
   "cell_type": "code",
   "execution_count": 60,
   "id": "34be21cd",
   "metadata": {},
   "outputs": [
    {
     "data": {
      "text/plain": [
       "'B'"
      ]
     },
     "execution_count": 60,
     "metadata": {},
     "output_type": "execute_result"
    }
   ],
   "source": [
    "dict3.pop('A')#to remove specific key,value pair from the dictionary"
   ]
  },
  {
   "cell_type": "code",
   "execution_count": 61,
   "id": "239dfb60",
   "metadata": {},
   "outputs": [
    {
     "name": "stdout",
     "output_type": "stream",
     "text": [
      "{1: 2, (4, 5): [1, 2, 2, 3], 1.034: 'D'}\n"
     ]
    }
   ],
   "source": [
    "print(dict3)"
   ]
  },
  {
   "cell_type": "code",
   "execution_count": 62,
   "id": "169daba7",
   "metadata": {},
   "outputs": [
    {
     "data": {
      "text/plain": [
       "(1.034, 'D')"
      ]
     },
     "execution_count": 62,
     "metadata": {},
     "output_type": "execute_result"
    }
   ],
   "source": [
    "dict3.popitem() # to remove the last item from the dictionary"
   ]
  },
  {
   "cell_type": "code",
   "execution_count": 63,
   "id": "0e85ac19",
   "metadata": {},
   "outputs": [],
   "source": [
    "del dict3[1] # to delete the key,value pair"
   ]
  },
  {
   "cell_type": "code",
   "execution_count": 64,
   "id": "2a8c308a",
   "metadata": {},
   "outputs": [
    {
     "name": "stdout",
     "output_type": "stream",
     "text": [
      "{(4, 5): [1, 2, 2, 3]}\n"
     ]
    }
   ],
   "source": [
    "print(dict3)"
   ]
  },
  {
   "cell_type": "code",
   "execution_count": 68,
   "id": "5b802b2b",
   "metadata": {},
   "outputs": [],
   "source": [
    "dict3.clear() # to empty the dictionary"
   ]
  },
  {
   "cell_type": "code",
   "execution_count": 70,
   "id": "3a4f5486",
   "metadata": {},
   "outputs": [],
   "source": [
    "del dict3 # totally deletes dictionary from the memory"
   ]
  },
  {
   "cell_type": "code",
   "execution_count": 74,
   "id": "4f016c29",
   "metadata": {},
   "outputs": [
    {
     "name": "stdout",
     "output_type": "stream",
     "text": [
      "{'A': 'B', 1: 2, (4, 5): [1, 2, 2, 3], 1.034: 'D'}\n"
     ]
    }
   ],
   "source": [
    "print(dict3)"
   ]
  },
  {
   "cell_type": "code",
   "execution_count": 77,
   "id": "f095008d",
   "metadata": {},
   "outputs": [
    {
     "data": {
      "text/plain": [
       "True"
      ]
     },
     "execution_count": 77,
     "metadata": {},
     "output_type": "execute_result"
    }
   ],
   "source": [
    "'A' in dict3 # only works on keys"
   ]
  },
  {
   "cell_type": "code",
   "execution_count": 78,
   "id": "62c68df4",
   "metadata": {},
   "outputs": [
    {
     "data": {
      "text/plain": [
       "False"
      ]
     },
     "execution_count": 78,
     "metadata": {},
     "output_type": "execute_result"
    }
   ],
   "source": [
    "'A'  not in dict3# only works on keys"
   ]
  },
  {
   "cell_type": "code",
   "execution_count": 79,
   "id": "1576586b",
   "metadata": {},
   "outputs": [],
   "source": [
    "dict5 = dict3 #any change affects both the dictionaries"
   ]
  },
  {
   "cell_type": "code",
   "execution_count": 80,
   "id": "cdcce871",
   "metadata": {},
   "outputs": [
    {
     "name": "stdout",
     "output_type": "stream",
     "text": [
      "{'A': 'B', 1: 2, (4, 5): [1, 2, 2, 3], 1.034: 'D'} {'A': 'B', 1: 2, (4, 5): [1, 2, 2, 3], 1.034: 'D'}\n"
     ]
    }
   ],
   "source": [
    "print(dict3,dict5)"
   ]
  },
  {
   "cell_type": "code",
   "execution_count": 83,
   "id": "ff39d647",
   "metadata": {},
   "outputs": [],
   "source": [
    "dict3[1] = 'New'\n",
    "dict5['A'] = 'New2'"
   ]
  },
  {
   "cell_type": "code",
   "execution_count": 84,
   "id": "21a7fe91",
   "metadata": {},
   "outputs": [
    {
     "name": "stdout",
     "output_type": "stream",
     "text": [
      "{'A': 'New2', 1: 'New', (4, 5): [1, 2, 2, 3], 1.034: 'D'} {'A': 'New2', 1: 'New', (4, 5): [1, 2, 2, 3], 1.034: 'D'}\n"
     ]
    }
   ],
   "source": [
    "print(dict3,dict5)"
   ]
  },
  {
   "cell_type": "code",
   "execution_count": 86,
   "id": "eeed38b2",
   "metadata": {},
   "outputs": [
    {
     "name": "stdout",
     "output_type": "stream",
     "text": [
      "{'A': 'New2', 1: 'New', (4, 5): [1, 2, 2, 3], 1.034: 'D'} {'A': 'New2', 1: 'New', (4, 5): [1, 2, 2, 3], 1.034: 'D'}\n"
     ]
    }
   ],
   "source": [
    "dict6= dict3.copy() # doesnt affect the other dictionary\n",
    "print(dict3,dict5)"
   ]
  },
  {
   "cell_type": "code",
   "execution_count": 87,
   "id": "a9bd19ca",
   "metadata": {},
   "outputs": [
    {
     "name": "stdout",
     "output_type": "stream",
     "text": [
      "{'A': 'New2', 1: 'Python1', (4, 5): [1, 2, 2, 3], 1.034: 'D'} {'A': 'Python2', 1: 'New', (4, 5): [1, 2, 2, 3], 1.034: 'D'}\n"
     ]
    }
   ],
   "source": [
    "dict3[1] = 'Python1'\n",
    "dict6['A'] = 'Python2'\n",
    "print(dict3,dict6)"
   ]
  },
  {
   "cell_type": "code",
   "execution_count": 89,
   "id": "d1391de9",
   "metadata": {},
   "outputs": [
    {
     "data": {
      "text/plain": [
       "[1, 2, 4]"
      ]
     },
     "execution_count": 89,
     "metadata": {},
     "output_type": "execute_result"
    }
   ],
   "source": [
    "sorted({1:2,2:3,4:5})"
   ]
  },
  {
   "cell_type": "code",
   "execution_count": 90,
   "id": "3018a67b",
   "metadata": {},
   "outputs": [
    {
     "data": {
      "text/plain": [
       "'XYZ'"
      ]
     },
     "execution_count": 90,
     "metadata": {},
     "output_type": "execute_result"
    }
   ],
   "source": [
    "dict3.setdefault('Y','XYZ') #if the key is existing it doesnt affect the dictionary or else it adds a new key value pair"
   ]
  },
  {
   "cell_type": "code",
   "execution_count": 91,
   "id": "4874b608",
   "metadata": {},
   "outputs": [
    {
     "name": "stdout",
     "output_type": "stream",
     "text": [
      "{'A': 'New2', 1: 'Python1', (4, 5): [1, 2, 2, 3], 1.034: 'D', 'Y': 'XYZ'}\n"
     ]
    }
   ],
   "source": [
    "print(dict3)"
   ]
  },
  {
   "cell_type": "code",
   "execution_count": 92,
   "id": "d3bee67e",
   "metadata": {},
   "outputs": [
    {
     "name": "stdout",
     "output_type": "stream",
     "text": [
      "{'A': 'New2', 1: 'Python1', (4, 5): [1, 2, 2, 3], 1.034: 'D', 'Y': 'XYZ'}\n"
     ]
    }
   ],
   "source": [
    "dict3.setdefault('Y','YRT')\n",
    "print(dict3)"
   ]
  },
  {
   "cell_type": "code",
   "execution_count": null,
   "id": "cc3b25b1",
   "metadata": {},
   "outputs": [],
   "source": []
  }
 ],
 "metadata": {
  "kernelspec": {
   "display_name": "Python 3 (ipykernel)",
   "language": "python",
   "name": "python3"
  },
  "language_info": {
   "codemirror_mode": {
    "name": "ipython",
    "version": 3
   },
   "file_extension": ".py",
   "mimetype": "text/x-python",
   "name": "python",
   "nbconvert_exporter": "python",
   "pygments_lexer": "ipython3",
   "version": "3.9.12"
  }
 },
 "nbformat": 4,
 "nbformat_minor": 5
}

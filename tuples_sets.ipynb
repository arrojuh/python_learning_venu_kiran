{
 "cells": [
  {
   "cell_type": "markdown",
   "id": "5fc839e8",
   "metadata": {},
   "source": [
    "# TUPLES"
   ]
  },
  {
   "cell_type": "code",
   "execution_count": 1,
   "id": "438431a8",
   "metadata": {},
   "outputs": [],
   "source": [
    "# collection of elements in () which are not mutable"
   ]
  },
  {
   "cell_type": "code",
   "execution_count": 21,
   "id": "84e6b26d",
   "metadata": {},
   "outputs": [
    {
     "name": "stdout",
     "output_type": "stream",
     "text": [
      "(7, 8, 9) \n",
      " ('h', 'e', 'l', 'l', 'o') \n",
      " ('hello', 1, 2, True, [1, 2, 3]) \n",
      " (7, 8, 9) \n",
      " [7, 8, 9]\n"
     ]
    }
   ],
   "source": [
    "# CREATION OF TUPLES\n",
    "tup1 = (7,8,9) #method 1\n",
    "list1 = [7,8,9]\n",
    "list2 = list(tup1)\n",
    "tup2 = tuple('hello') # method2\n",
    "tup3= ('hello',1,2,True,[1,2,3])\n",
    "tup4 = tuple(list1) #method3\n",
    "print(tup1,'\\n',tup2,'\\n',tup3,'\\n',tup4,'\\n',list2)"
   ]
  },
  {
   "cell_type": "code",
   "execution_count": 78,
   "id": "81cd36f6",
   "metadata": {},
   "outputs": [
    {
     "name": "stdout",
     "output_type": "stream",
     "text": [
      "l\n",
      "('e', 'l', 'l')\n",
      "[1, 2, 3]\n",
      "([1, 2, 3], True, 2, 1, 'hello')\n",
      "5\n",
      "(7, 8, 9, 'h', 'e', 'l', 'l', 'o')\n",
      "(7, 8, 9, 7, 8, 9, 7, 8, 9) (7, 8, 9)\n",
      "True\n",
      "False\n",
      "(0, 1, True, 2, 3, 4, [1, 2, 3, 4]) 2\n",
      "[1, 8, 11, 12, 202]\n",
      "444 555 666\n"
     ]
    }
   ],
   "source": [
    "#accessing tuples\n",
    "print(tup2[2])# returns the single value/element -- accessing\n",
    "print(tup2[1:4]) # returns the tuple of elements --- slicing\n",
    "print(tup3[-1])\n",
    "print(tup3[::-1])\n",
    "print(len(tup2)) #to take the length\n",
    "tup6 = tup1+tup2 #not modifying only adding two different tuples\n",
    "print(tup6)\n",
    "print(tup1*3,tup1)\n",
    "print(7 in tup1)\n",
    "print(7 not in tup1)\n",
    "tup7 = (0,False,1,True,2,3,4,[1,2,3,4])\n",
    "tup8 = (0,1,True,2,3,4,[1,2,3,4])\n",
    "print(tup8,tup8.count(1)) #returns 1 for True, and 0 for False\n",
    "\n",
    "tup9 = (1,12,11,8,202)\n",
    "print(sorted(tup9))#return a sorted list as tuple is not mutable\n",
    "\n",
    "a,b,c = (444,555,666) #tuple unpacking and it needs the variables to be in the same length of the tuple\n",
    "print(a,b,c)\n",
    "\n",
    "tup10 = ('a','b',(0,90,99,88,(12,13,14)))"
   ]
  },
  {
   "cell_type": "code",
   "execution_count": 64,
   "id": "7e71ff42",
   "metadata": {},
   "outputs": [
    {
     "data": {
      "text/plain": [
       "13"
      ]
     },
     "execution_count": 64,
     "metadata": {},
     "output_type": "execute_result"
    }
   ],
   "source": [
    "tup10[2][4][1] # nested tuple "
   ]
  },
  {
   "cell_type": "markdown",
   "id": "9d5843b5",
   "metadata": {},
   "source": [
    "# SETS"
   ]
  },
  {
   "cell_type": "code",
   "execution_count": 65,
   "id": "6337c355",
   "metadata": {},
   "outputs": [],
   "source": [
    "# set is a collection of unique items under {}"
   ]
  },
  {
   "cell_type": "code",
   "execution_count": 103,
   "id": "02b17fa6",
   "metadata": {},
   "outputs": [],
   "source": [
    "set1 = {1,2,2,'a','b',True,False,(11,23,45,45)}\n",
    "set2 = {22,33,33,44,'p','o','q'}# doesnt allow lists because list is mutable "
   ]
  },
  {
   "cell_type": "code",
   "execution_count": 84,
   "id": "147e7115",
   "metadata": {},
   "outputs": [
    {
     "name": "stdout",
     "output_type": "stream",
     "text": [
      "[1, 2, 55, 66, 99, 2002] [False, True] ['a', 'c', 'd', 'eae']\n"
     ]
    }
   ],
   "source": [
    "set3 = {1,2,2002,55,66,99}\n",
    "set4 = {True,False,True,False}\n",
    "set5  = {'a','eae','c','d'}\n",
    "print(sorted(set3),sorted(set4),sorted(set5))#returns list because set itself is not accessible"
   ]
  },
  {
   "cell_type": "code",
   "execution_count": 94,
   "id": "6a46135c",
   "metadata": {},
   "outputs": [
    {
     "name": "stdout",
     "output_type": "stream",
     "text": [
      "{1, 2, 66, 'd', 'l', 2002, 'f', 'k', 99, 'a', 'def', 'e', ('k', 'l', 'm'), 55, 'b', 'm'}\n"
     ]
    }
   ],
   "source": [
    "set3.add('a')#adds to the set as single element\n",
    "set3.add('def')\n",
    "set3.add(('k','l','m'))\n",
    "print(set3)"
   ]
  },
  {
   "cell_type": "code",
   "execution_count": 93,
   "id": "f3b78737",
   "metadata": {},
   "outputs": [
    {
     "name": "stdout",
     "output_type": "stream",
     "text": [
      "{1, 2, 66, 'd', 'l', 2002, 'f', 'k', 99, 'a', 'def', 'e', 55, 'b', 'm'}\n"
     ]
    }
   ],
   "source": [
    "set3.update('def') #updates the set as a iterable\n",
    "set3.update({'k','l','m'})\n",
    "print(set3)"
   ]
  },
  {
   "cell_type": "code",
   "execution_count": 99,
   "id": "bda129a6",
   "metadata": {},
   "outputs": [
    {
     "ename": "KeyError",
     "evalue": "'e'",
     "output_type": "error",
     "traceback": [
      "\u001b[1;31m---------------------------------------------------------------------------\u001b[0m",
      "\u001b[1;31mKeyError\u001b[0m                                  Traceback (most recent call last)",
      "Input \u001b[1;32mIn [99]\u001b[0m, in \u001b[0;36m<cell line: 1>\u001b[1;34m()\u001b[0m\n\u001b[1;32m----> 1\u001b[0m \u001b[43mset3\u001b[49m\u001b[38;5;241;43m.\u001b[39;49m\u001b[43mremove\u001b[49m\u001b[43m(\u001b[49m\u001b[38;5;124;43m'\u001b[39;49m\u001b[38;5;124;43me\u001b[39;49m\u001b[38;5;124;43m'\u001b[39;49m\u001b[43m)\u001b[49m\u001b[38;5;66;03m# if element is not present it creates error\u001b[39;00m\n\u001b[0;32m      2\u001b[0m \u001b[38;5;28mprint\u001b[39m(set3)\n",
      "\u001b[1;31mKeyError\u001b[0m: 'e'"
     ]
    }
   ],
   "source": [
    "set3.remove('e')# if element is not present it creates error\n",
    "print(set3)"
   ]
  },
  {
   "cell_type": "code",
   "execution_count": 98,
   "id": "1393f74a",
   "metadata": {},
   "outputs": [
    {
     "name": "stdout",
     "output_type": "stream",
     "text": [
      "{1, 2, 66, 'l', 2002, 'f', 'k', 99, 'a', 'def', ('k', 'l', 'm'), 55, 'b', 'm'}\n"
     ]
    }
   ],
   "source": [
    "set3.discard('e') # doesnt create error when element is not present\n",
    "print(set3)"
   ]
  },
  {
   "cell_type": "code",
   "execution_count": 100,
   "id": "6169152a",
   "metadata": {},
   "outputs": [
    {
     "data": {
      "text/plain": [
       "1"
      ]
     },
     "execution_count": 100,
     "metadata": {},
     "output_type": "execute_result"
    }
   ],
   "source": [
    "set3.pop() #randomly removes one element"
   ]
  },
  {
   "cell_type": "code",
   "execution_count": 104,
   "id": "dfbf29b4",
   "metadata": {},
   "outputs": [
    {
     "name": "stdout",
     "output_type": "stream",
     "text": [
      "{'p', 33, 'q', 'o', 22, 44} {2, 66, 'l', 2002, 'f', 'k', 99, 'a', 'def', ('k', 'l', 'm'), 55, 'b', 'm'}\n"
     ]
    }
   ],
   "source": [
    "print(set2,set3)"
   ]
  },
  {
   "cell_type": "code",
   "execution_count": 113,
   "id": "03808d3f",
   "metadata": {},
   "outputs": [],
   "source": [
    "set4 = {1,2,3,4,5,'a','c'}\n",
    "set5 = {2,3,4,'f','e'}"
   ]
  },
  {
   "cell_type": "code",
   "execution_count": 116,
   "id": "ba059dc7",
   "metadata": {
    "scrolled": true
   },
   "outputs": [
    {
     "name": "stdout",
     "output_type": "stream",
     "text": [
      "{1, 2, 3, 4, 5, 'a', 'c', 'e', 'f'}\n",
      "{2, 3, 4}\n",
      "{'c', 1, 5, 'a'}\n",
      "{'e', 'f'}\n",
      "{1, 5, 'a', 'c', 'e', 'f'}\n"
     ]
    },
    {
     "data": {
      "text/plain": [
       "True"
      ]
     },
     "execution_count": 116,
     "metadata": {},
     "output_type": "execute_result"
    }
   ],
   "source": [
    "print(set4.union(set5))#adds two sets similar to update only works on sets\n",
    "print(set4.intersection(set5)) #shows common elements in both\n",
    "print(set4.difference(set5)) #shows elements that are only in set4\n",
    "print(set5.difference(set4)) #shows elements that are only in set5\n",
    "print(set4^set5) #shows elements that are both in set4 and set5\n",
    "set2.isdisjoint(set3) #returns True if both has no common elements"
   ]
  }
 ],
 "metadata": {
  "kernelspec": {
   "display_name": "Python 3 (ipykernel)",
   "language": "python",
   "name": "python3"
  },
  "language_info": {
   "codemirror_mode": {
    "name": "ipython",
    "version": 3
   },
   "file_extension": ".py",
   "mimetype": "text/x-python",
   "name": "python",
   "nbconvert_exporter": "python",
   "pygments_lexer": "ipython3",
   "version": "3.9.12"
  }
 },
 "nbformat": 4,
 "nbformat_minor": 5
}

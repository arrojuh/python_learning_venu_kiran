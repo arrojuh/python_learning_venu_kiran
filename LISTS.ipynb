{
 "cells": [
  {
   "cell_type": "code",
   "execution_count": null,
   "id": "ad416b20",
   "metadata": {},
   "outputs": [],
   "source": [
    "#list.append(value) -- adds an element at the end of the list\n",
    "#list.insert(index,value) -- adds a element at any position\n",
    "#list.remove(value) - removes the value from the list\n",
    "#list.pop(index) - removed the value based on index\n",
    "#list.extend(list) - extends the list with the elements from other list\n",
    "#list.copy() --- copies the list without affecting it"
   ]
  },
  {
   "cell_type": "code",
   "execution_count": 40,
   "id": "55f1bb8a",
   "metadata": {},
   "outputs": [],
   "source": [
    "list1= [1,'a',2.0,True,1,1,1]# defined by square brackets - anything inside the square brackets\n",
    "#iterable is any data type which let us access individual element\n"
   ]
  },
  {
   "cell_type": "code",
   "execution_count": 41,
   "id": "85525d7c",
   "metadata": {},
   "outputs": [
    {
     "name": "stdout",
     "output_type": "stream",
     "text": [
      "[1, 'a', 2.0, True, 1, 1, 1]\n"
     ]
    }
   ],
   "source": [
    "print(list1)"
   ]
  },
  {
   "cell_type": "code",
   "execution_count": 12,
   "id": "f2cd3675",
   "metadata": {},
   "outputs": [],
   "source": [
    "list2 = list('hello') # creates list by seperating the elements\n",
    "list3 = list((1,2,333,44))"
   ]
  },
  {
   "cell_type": "code",
   "execution_count": 14,
   "id": "10de7a80",
   "metadata": {},
   "outputs": [
    {
     "name": "stdout",
     "output_type": "stream",
     "text": [
      "['h', 'e', 'l', 'l', 'o'] [1, 2, 333, 44]\n"
     ]
    }
   ],
   "source": [
    "print(list2,list3)"
   ]
  },
  {
   "cell_type": "code",
   "execution_count": 17,
   "id": "3b0a5925",
   "metadata": {},
   "outputs": [],
   "source": [
    "list4 = ['hello',1,2,111,1234]"
   ]
  },
  {
   "cell_type": "code",
   "execution_count": 18,
   "id": "d1547f14",
   "metadata": {},
   "outputs": [
    {
     "name": "stdout",
     "output_type": "stream",
     "text": [
      "['hello', 1, 2, 111, 1234]\n"
     ]
    }
   ],
   "source": [
    "print(list4)"
   ]
  },
  {
   "cell_type": "code",
   "execution_count": 20,
   "id": "483e6793",
   "metadata": {},
   "outputs": [
    {
     "data": {
      "text/plain": [
       "1"
      ]
     },
     "execution_count": 20,
     "metadata": {},
     "output_type": "execute_result"
    }
   ],
   "source": [
    "list4[1]"
   ]
  },
  {
   "cell_type": "code",
   "execution_count": 21,
   "id": "96af6eda",
   "metadata": {},
   "outputs": [
    {
     "data": {
      "text/plain": [
       "111"
      ]
     },
     "execution_count": 21,
     "metadata": {},
     "output_type": "execute_result"
    }
   ],
   "source": [
    "list4[3]"
   ]
  },
  {
   "cell_type": "code",
   "execution_count": 24,
   "id": "421a75f6",
   "metadata": {},
   "outputs": [
    {
     "data": {
      "text/plain": [
       "['hello', 2]"
      ]
     },
     "execution_count": 24,
     "metadata": {},
     "output_type": "execute_result"
    }
   ],
   "source": [
    "list4[0:4:2]"
   ]
  },
  {
   "cell_type": "code",
   "execution_count": 26,
   "id": "0b6c9e5d",
   "metadata": {},
   "outputs": [
    {
     "name": "stdout",
     "output_type": "stream",
     "text": [
      "['hello', 1, 2, 111, 1234]\n"
     ]
    }
   ],
   "source": [
    "print(list4)"
   ]
  },
  {
   "cell_type": "code",
   "execution_count": 66,
   "id": "8e1690a6",
   "metadata": {},
   "outputs": [],
   "source": [
    "list4[0] = 'Python'"
   ]
  },
  {
   "cell_type": "code",
   "execution_count": 67,
   "id": "62c1f01a",
   "metadata": {},
   "outputs": [
    {
     "name": "stdout",
     "output_type": "stream",
     "text": [
      "['Python', 'Python', 2, 111, 1234]\n"
     ]
    }
   ],
   "source": [
    "print(list4)"
   ]
  },
  {
   "cell_type": "code",
   "execution_count": 131,
   "id": "ee3b33f7",
   "metadata": {},
   "outputs": [],
   "source": [
    "list5 = [1,2,3,['a','b',['c','d']]] #nested list"
   ]
  },
  {
   "cell_type": "code",
   "execution_count": 45,
   "id": "51a75c08",
   "metadata": {},
   "outputs": [
    {
     "name": "stdout",
     "output_type": "stream",
     "text": [
      "[1, 2, 3, ['a', 'b', ['c', 'd']]]\n"
     ]
    }
   ],
   "source": [
    "print(list5)"
   ]
  },
  {
   "cell_type": "code",
   "execution_count": 46,
   "id": "db4b2302",
   "metadata": {},
   "outputs": [
    {
     "data": {
      "text/plain": [
       "4"
      ]
     },
     "execution_count": 46,
     "metadata": {},
     "output_type": "execute_result"
    }
   ],
   "source": [
    "len(list5)"
   ]
  },
  {
   "cell_type": "code",
   "execution_count": 57,
   "id": "6adf33e5",
   "metadata": {},
   "outputs": [
    {
     "data": {
      "text/plain": [
       "'d'"
      ]
     },
     "execution_count": 57,
     "metadata": {},
     "output_type": "execute_result"
    }
   ],
   "source": [
    "list5[3][2][1] # the way to access a nested list"
   ]
  },
  {
   "cell_type": "code",
   "execution_count": 62,
   "id": "e9054a04",
   "metadata": {},
   "outputs": [
    {
     "data": {
      "text/plain": [
       "['c', 'd']"
      ]
     },
     "execution_count": 62,
     "metadata": {},
     "output_type": "execute_result"
    }
   ],
   "source": [
    "list5[2:4][1][-1]"
   ]
  },
  {
   "cell_type": "markdown",
   "id": "e2387039",
   "metadata": {},
   "source": [
    "# List Operations"
   ]
  },
  {
   "cell_type": "code",
   "execution_count": 65,
   "id": "58ac5686",
   "metadata": {},
   "outputs": [
    {
     "name": "stdout",
     "output_type": "stream",
     "text": [
      "[1, 2, 3, ['a', 'b', ['c', 'd']]]\n"
     ]
    }
   ],
   "source": [
    "print(list5)"
   ]
  },
  {
   "cell_type": "code",
   "execution_count": 81,
   "id": "654bc8f7",
   "metadata": {},
   "outputs": [
    {
     "name": "stdout",
     "output_type": "stream",
     "text": [
      "[1, 2, 3, ['a', 'b', 'Python']]\n"
     ]
    }
   ],
   "source": [
    "list5[3][2]='Python'\n",
    "print(list5)"
   ]
  },
  {
   "cell_type": "code",
   "execution_count": 82,
   "id": "4012faf2",
   "metadata": {},
   "outputs": [],
   "source": [
    "# append method - syntax : list.append(value)"
   ]
  },
  {
   "cell_type": "code",
   "execution_count": 83,
   "id": "c709bf7a",
   "metadata": {},
   "outputs": [
    {
     "data": {
      "text/plain": [
       "['Python', 'Python', 2, 111, 1234]"
      ]
     },
     "execution_count": 83,
     "metadata": {},
     "output_type": "execute_result"
    }
   ],
   "source": [
    "list4"
   ]
  },
  {
   "cell_type": "code",
   "execution_count": 84,
   "id": "bfd933a7",
   "metadata": {},
   "outputs": [],
   "source": [
    "list4.append(True) # adds element at the last always"
   ]
  },
  {
   "cell_type": "code",
   "execution_count": 85,
   "id": "bc222c5a",
   "metadata": {},
   "outputs": [
    {
     "data": {
      "text/plain": [
       "['Python', 'Python', 2, 111, 1234, True]"
      ]
     },
     "execution_count": 85,
     "metadata": {},
     "output_type": "execute_result"
    }
   ],
   "source": [
    "list4"
   ]
  },
  {
   "cell_type": "code",
   "execution_count": 86,
   "id": "7d9f66cd",
   "metadata": {},
   "outputs": [],
   "source": [
    "#insert method - syntax : list.insert(index, value)\n",
    "\n",
    "list4.insert(3,'Hello')#only inserts a new element"
   ]
  },
  {
   "cell_type": "code",
   "execution_count": 87,
   "id": "c0a9fb2b",
   "metadata": {},
   "outputs": [
    {
     "data": {
      "text/plain": [
       "['Python', 'Python', 2, 'Hello', 111, 1234, True]"
      ]
     },
     "execution_count": 87,
     "metadata": {},
     "output_type": "execute_result"
    }
   ],
   "source": [
    "list4"
   ]
  },
  {
   "cell_type": "code",
   "execution_count": 88,
   "id": "78cc429d",
   "metadata": {},
   "outputs": [],
   "source": [
    "list4[3] = 'Hello2' #modified the position"
   ]
  },
  {
   "cell_type": "code",
   "execution_count": 89,
   "id": "f2822059",
   "metadata": {},
   "outputs": [
    {
     "data": {
      "text/plain": [
       "['Python', 'Python', 2, 'Hello2', 111, 1234, True]"
      ]
     },
     "execution_count": 89,
     "metadata": {},
     "output_type": "execute_result"
    }
   ],
   "source": [
    "list4"
   ]
  },
  {
   "cell_type": "code",
   "execution_count": 91,
   "id": "547839df",
   "metadata": {},
   "outputs": [
    {
     "data": {
      "text/plain": [
       "7"
      ]
     },
     "execution_count": 91,
     "metadata": {},
     "output_type": "execute_result"
    }
   ],
   "source": [
    "len(list4) # shows the length of the list"
   ]
  },
  {
   "cell_type": "code",
   "execution_count": 97,
   "id": "b5e1ec36",
   "metadata": {},
   "outputs": [],
   "source": [
    "list4.insert(9,'900')"
   ]
  },
  {
   "cell_type": "code",
   "execution_count": 98,
   "id": "968c2b50",
   "metadata": {},
   "outputs": [
    {
     "data": {
      "text/plain": [
       "['Python', 'Python', 2, 'Hello2', 111, 1234, True, '90', '90', '900']"
      ]
     },
     "execution_count": 98,
     "metadata": {},
     "output_type": "execute_result"
    }
   ],
   "source": [
    "list4"
   ]
  },
  {
   "cell_type": "code",
   "execution_count": 99,
   "id": "6b5d1d34",
   "metadata": {},
   "outputs": [],
   "source": [
    "list4.insert(99,'9010')"
   ]
  },
  {
   "cell_type": "code",
   "execution_count": 100,
   "id": "cef83f67",
   "metadata": {},
   "outputs": [
    {
     "data": {
      "text/plain": [
       "['Python', 'Python', 2, 'Hello2', 111, 1234, True, '90', '90', '900', '9010']"
      ]
     },
     "execution_count": 100,
     "metadata": {},
     "output_type": "execute_result"
    }
   ],
   "source": [
    "list4"
   ]
  },
  {
   "cell_type": "code",
   "execution_count": 101,
   "id": "2d57199b",
   "metadata": {},
   "outputs": [
    {
     "data": {
      "text/plain": [
       "10"
      ]
     },
     "execution_count": 101,
     "metadata": {},
     "output_type": "execute_result"
    }
   ],
   "source": [
    "list4.index('9010') # to check the index of any element"
   ]
  },
  {
   "cell_type": "code",
   "execution_count": 102,
   "id": "75024b6a",
   "metadata": {},
   "outputs": [
    {
     "data": {
      "text/plain": [
       "['Python', 'Python', 2, 'Hello2', 111, 1234, True, '90', '90', '900', '9010']"
      ]
     },
     "execution_count": 102,
     "metadata": {},
     "output_type": "execute_result"
    }
   ],
   "source": [
    "list4"
   ]
  },
  {
   "cell_type": "code",
   "execution_count": 103,
   "id": "0d96479c",
   "metadata": {},
   "outputs": [
    {
     "data": {
      "text/plain": [
       "[1, 2, 3, ['a', 'b', 'Python']]"
      ]
     },
     "execution_count": 103,
     "metadata": {},
     "output_type": "execute_result"
    }
   ],
   "source": [
    "list5"
   ]
  },
  {
   "cell_type": "code",
   "execution_count": 108,
   "id": "bf302543",
   "metadata": {},
   "outputs": [],
   "source": [
    "list6 = list4 + list5"
   ]
  },
  {
   "cell_type": "code",
   "execution_count": 109,
   "id": "75f2fe2b",
   "metadata": {},
   "outputs": [],
   "source": [
    "list4.extend(list5)#adds the elements in the  list individually"
   ]
  },
  {
   "cell_type": "code",
   "execution_count": 111,
   "id": "1ea8f70a",
   "metadata": {},
   "outputs": [],
   "source": [
    "list4.append(list5) # add the whole list as one element"
   ]
  },
  {
   "cell_type": "code",
   "execution_count": 112,
   "id": "d8c76762",
   "metadata": {},
   "outputs": [
    {
     "data": {
      "text/plain": [
       "['Python',\n",
       " 'Python',\n",
       " 2,\n",
       " 'Hello2',\n",
       " 111,\n",
       " 1234,\n",
       " True,\n",
       " '90',\n",
       " '90',\n",
       " '900',\n",
       " '9010',\n",
       " 1,\n",
       " 2,\n",
       " 3,\n",
       " ['a', 'b', 'Python'],\n",
       " [1, 2, 3, ['a', 'b', 'Python']]]"
      ]
     },
     "execution_count": 112,
     "metadata": {},
     "output_type": "execute_result"
    }
   ],
   "source": [
    "list4"
   ]
  },
  {
   "cell_type": "code",
   "execution_count": 121,
   "id": "16426c6c",
   "metadata": {},
   "outputs": [
    {
     "name": "stdout",
     "output_type": "stream",
     "text": [
      "['Hello2', 111, 1234, True, '900', '9010', 1, 2, 3, ['a', 'b', 'Python'], [1, 2, 3, ['a', 'b', 'Python']]]\n"
     ]
    }
   ],
   "source": [
    "# list4.remove('Python') #removes the first occurence\n",
    "list4.remove('90')\n",
    "print(list4)"
   ]
  },
  {
   "cell_type": "code",
   "execution_count": 123,
   "id": "18750e7c",
   "metadata": {},
   "outputs": [
    {
     "name": "stdout",
     "output_type": "stream",
     "text": [
      "['Hello2', 111, True, '900', '9010', 1, 2, 3, ['a', 'b', 'Python'], [1, 2, 3, ['a', 'b', 'Python']]]\n"
     ]
    }
   ],
   "source": [
    "list4.pop(2)\n",
    "print(list4)"
   ]
  },
  {
   "cell_type": "code",
   "execution_count": 124,
   "id": "8fdf4860",
   "metadata": {},
   "outputs": [
    {
     "name": "stdout",
     "output_type": "stream",
     "text": [
      "['Hello2', 111, True, '900', '9010', 1, 2, 3, ['a', 'b', 'Python']]\n"
     ]
    }
   ],
   "source": [
    "list4.pop()\n",
    "print(list4)"
   ]
  },
  {
   "cell_type": "code",
   "execution_count": 125,
   "id": "080b990d",
   "metadata": {},
   "outputs": [],
   "source": [
    "list4.clear()"
   ]
  },
  {
   "cell_type": "code",
   "execution_count": 126,
   "id": "dd1b7fe2",
   "metadata": {},
   "outputs": [
    {
     "name": "stdout",
     "output_type": "stream",
     "text": [
      "[]\n"
     ]
    }
   ],
   "source": [
    "print(list4)"
   ]
  },
  {
   "cell_type": "code",
   "execution_count": 132,
   "id": "cb721c80",
   "metadata": {},
   "outputs": [
    {
     "data": {
      "text/plain": [
       "[1, 2, 3, ['a', 'b', ['c', 'd']]]"
      ]
     },
     "execution_count": 132,
     "metadata": {},
     "output_type": "execute_result"
    }
   ],
   "source": [
    "list5"
   ]
  },
  {
   "cell_type": "code",
   "execution_count": 140,
   "id": "d315287c",
   "metadata": {},
   "outputs": [],
   "source": [
    "list5[1] = 99"
   ]
  },
  {
   "cell_type": "code",
   "execution_count": 141,
   "id": "7d24e4b5",
   "metadata": {},
   "outputs": [
    {
     "data": {
      "text/plain": [
       "[1, 99, 5, 6, 3, ['a', 'b', ['c', 'd']]]"
      ]
     },
     "execution_count": 141,
     "metadata": {},
     "output_type": "execute_result"
    }
   ],
   "source": [
    "list5"
   ]
  },
  {
   "cell_type": "code",
   "execution_count": 137,
   "id": "bbd1fa6f",
   "metadata": {},
   "outputs": [],
   "source": [
    "list5[1:3]= [4,5,6] #need to update using a iterable as multiple values are being replaced"
   ]
  },
  {
   "cell_type": "code",
   "execution_count": 138,
   "id": "cfcf2ad8",
   "metadata": {},
   "outputs": [
    {
     "data": {
      "text/plain": [
       "[1, 4, 5, 6, 3, ['a', 'b', ['c', 'd']]]"
      ]
     },
     "execution_count": 138,
     "metadata": {},
     "output_type": "execute_result"
    }
   ],
   "source": [
    "list5"
   ]
  },
  {
   "cell_type": "code",
   "execution_count": 142,
   "id": "a0ee3cef",
   "metadata": {},
   "outputs": [
    {
     "data": {
      "text/plain": [
       "3"
      ]
     },
     "execution_count": 142,
     "metadata": {},
     "output_type": "execute_result"
    }
   ],
   "source": [
    "list5.index(6) # gives the index of the element"
   ]
  },
  {
   "cell_type": "code",
   "execution_count": 150,
   "id": "3bfaed1c",
   "metadata": {},
   "outputs": [
    {
     "name": "stdout",
     "output_type": "stream",
     "text": [
      "[1, 99, 5, 6, 3, ['a', 'b', ['c', 'd']]]\n",
      "0\n",
      "1\n"
     ]
    }
   ],
   "source": [
    "print(list5)\n",
    "print(list5.count('a'))# 0 as the element is present in the nested list\n",
    "print(list5[5].count('a')) # to access the nested list and take the count"
   ]
  },
  {
   "cell_type": "code",
   "execution_count": 151,
   "id": "48d71c3e",
   "metadata": {},
   "outputs": [],
   "source": [
    "list6 = [100,101,110,111,108,200,99]"
   ]
  },
  {
   "cell_type": "code",
   "execution_count": 152,
   "id": "5977e3c8",
   "metadata": {},
   "outputs": [],
   "source": [
    "list6.sort() # sorts the list  in ascending order"
   ]
  },
  {
   "cell_type": "code",
   "execution_count": 153,
   "id": "6202d2bf",
   "metadata": {},
   "outputs": [
    {
     "name": "stdout",
     "output_type": "stream",
     "text": [
      "[99, 100, 101, 108, 110, 111, 200]\n"
     ]
    }
   ],
   "source": [
    "print(list6)"
   ]
  },
  {
   "cell_type": "code",
   "execution_count": 154,
   "id": "4d36c657",
   "metadata": {},
   "outputs": [
    {
     "data": {
      "text/plain": [
       "[200, 111, 110, 108, 101, 100, 99]"
      ]
     },
     "execution_count": 154,
     "metadata": {},
     "output_type": "execute_result"
    }
   ],
   "source": [
    "list6[::-1]"
   ]
  },
  {
   "cell_type": "code",
   "execution_count": 155,
   "id": "e6eeb32d",
   "metadata": {},
   "outputs": [],
   "source": [
    "list6.sort(reverse = True)"
   ]
  },
  {
   "cell_type": "code",
   "execution_count": 156,
   "id": "4f7eb5db",
   "metadata": {},
   "outputs": [
    {
     "name": "stdout",
     "output_type": "stream",
     "text": [
      "[200, 111, 110, 108, 101, 100, 99]\n"
     ]
    }
   ],
   "source": [
    "print(list6)#reverses the list after sorting in ascending order"
   ]
  },
  {
   "cell_type": "code",
   "execution_count": 157,
   "id": "127c6c30",
   "metadata": {},
   "outputs": [],
   "source": [
    "# COPYING A LIST"
   ]
  },
  {
   "cell_type": "code",
   "execution_count": 165,
   "id": "ea03c8f7",
   "metadata": {},
   "outputs": [],
   "source": [
    "list7 = list6 #update in any list affects both"
   ]
  },
  {
   "cell_type": "code",
   "execution_count": 160,
   "id": "22f730f3",
   "metadata": {},
   "outputs": [
    {
     "name": "stdout",
     "output_type": "stream",
     "text": [
      "[200, 111, 110, 108, 101, 100, 99] [200, 111, 110, 108, 101, 100, 99]\n"
     ]
    }
   ],
   "source": [
    "print(list6,list7)"
   ]
  },
  {
   "cell_type": "code",
   "execution_count": 161,
   "id": "daa9f857",
   "metadata": {},
   "outputs": [],
   "source": [
    "list7[2] = 510"
   ]
  },
  {
   "cell_type": "code",
   "execution_count": 163,
   "id": "d797aaf3",
   "metadata": {},
   "outputs": [
    {
     "name": "stdout",
     "output_type": "stream",
     "text": [
      "[200, 111, 510, 108, 101, 100, 99]\n"
     ]
    }
   ],
   "source": [
    "print(list7)"
   ]
  },
  {
   "cell_type": "code",
   "execution_count": 164,
   "id": "6449815c",
   "metadata": {},
   "outputs": [
    {
     "name": "stdout",
     "output_type": "stream",
     "text": [
      "[200, 111, 510, 108, 101, 100, 99]\n"
     ]
    }
   ],
   "source": [
    "print(list6)"
   ]
  },
  {
   "cell_type": "code",
   "execution_count": 166,
   "id": "2cbdc069",
   "metadata": {},
   "outputs": [],
   "source": [
    "list6[2] = 1000"
   ]
  },
  {
   "cell_type": "code",
   "execution_count": 168,
   "id": "1552d550",
   "metadata": {},
   "outputs": [
    {
     "name": "stdout",
     "output_type": "stream",
     "text": [
      "[200, 111, 1000, 108, 101, 100, 99] [200, 111, 1000, 108, 101, 100, 99]\n"
     ]
    }
   ],
   "source": [
    "print(list7,list6)"
   ]
  },
  {
   "cell_type": "code",
   "execution_count": 170,
   "id": "4202526a",
   "metadata": {},
   "outputs": [
    {
     "name": "stdout",
     "output_type": "stream",
     "text": [
      "[200, 111, 1000, 108, 101, 100, 99] [200, 111, 1000, 108, 101, 100, 99]\n"
     ]
    }
   ],
   "source": [
    "list8 = list6.copy()# creates a shallow copy or simply doesnt affect the lists.\n",
    "print(list8,list6)"
   ]
  },
  {
   "cell_type": "code",
   "execution_count": 171,
   "id": "5089aa8a",
   "metadata": {},
   "outputs": [],
   "source": [
    "list8[3] = 'Hello'"
   ]
  },
  {
   "cell_type": "code",
   "execution_count": 172,
   "id": "073908a3",
   "metadata": {},
   "outputs": [
    {
     "name": "stdout",
     "output_type": "stream",
     "text": [
      "[200, 111, 1000, 'Hello', 101, 100, 99] [200, 111, 1000, 108, 101, 100, 99]\n"
     ]
    }
   ],
   "source": [
    "print(list8,list6)"
   ]
  },
  {
   "cell_type": "code",
   "execution_count": 173,
   "id": "b2b833e5",
   "metadata": {},
   "outputs": [
    {
     "data": {
      "text/plain": [
       "'Venukiran'"
      ]
     },
     "execution_count": 173,
     "metadata": {},
     "output_type": "execute_result"
    }
   ],
   "source": [
    "'Venu' + \"kiran\""
   ]
  },
  {
   "cell_type": "code",
   "execution_count": 174,
   "id": "72559ca0",
   "metadata": {},
   "outputs": [
    {
     "data": {
      "text/plain": [
       "[200, 111, 1000, 108, 101, 100, 99, 200, 111, 1000, 108, 101, 100, 99]"
      ]
     },
     "execution_count": 174,
     "metadata": {},
     "output_type": "execute_result"
    }
   ],
   "source": [
    "list6+list7"
   ]
  },
  {
   "cell_type": "code",
   "execution_count": 176,
   "id": "218bde44",
   "metadata": {},
   "outputs": [
    {
     "name": "stdout",
     "output_type": "stream",
     "text": [
      "[200, 111, 1000, 108, 101, 100, 99, 200, 111, 1000, 108, 101, 100, 99, 200, 111, 1000, 108, 101, 100, 99, 200, 111, 1000, 108, 101, 100, 99, 200, 111, 1000, 108, 101, 100, 99]\n"
     ]
    }
   ],
   "source": [
    "print(list6*5)"
   ]
  },
  {
   "cell_type": "code",
   "execution_count": 185,
   "id": "4b5d026a",
   "metadata": {},
   "outputs": [
    {
     "name": "stdout",
     "output_type": "stream",
     "text": [
      "[1, 2, 3, 4, 5, 6]\n",
      "[1, 2, 3, [4, 5, 6]]\n"
     ]
    }
   ],
   "source": [
    "a1 =[1,2,3]\n",
    "b1 = [4,5,6]\n",
    "a1.extend(b1)\n",
    "print(a1)\n",
    "a1 =[1,2,3]\n",
    "b1 = [4,5,6]\n",
    "a1.append(b1)\n",
    "print(a1)"
   ]
  },
  {
   "cell_type": "code",
   "execution_count": 187,
   "id": "92960a58",
   "metadata": {},
   "outputs": [],
   "source": [
    "a1 =[1,2,3]\n",
    "b1 = [4,5,6]\n",
    "c1 = a1+b1"
   ]
  },
  {
   "cell_type": "code",
   "execution_count": 188,
   "id": "bb02b857",
   "metadata": {},
   "outputs": [
    {
     "name": "stdout",
     "output_type": "stream",
     "text": [
      "[1, 2, 3] [4, 5, 6] [1, 2, 3, 4, 5, 6]\n"
     ]
    }
   ],
   "source": [
    "print(a1,b1,c1)"
   ]
  },
  {
   "cell_type": "code",
   "execution_count": null,
   "id": "61fc3cd6",
   "metadata": {},
   "outputs": [],
   "source": []
  }
 ],
 "metadata": {
  "kernelspec": {
   "display_name": "Python 3 (ipykernel)",
   "language": "python",
   "name": "python3"
  },
  "language_info": {
   "codemirror_mode": {
    "name": "ipython",
    "version": 3
   },
   "file_extension": ".py",
   "mimetype": "text/x-python",
   "name": "python",
   "nbconvert_exporter": "python",
   "pygments_lexer": "ipython3",
   "version": "3.9.12"
  }
 },
 "nbformat": 4,
 "nbformat_minor": 5
}
